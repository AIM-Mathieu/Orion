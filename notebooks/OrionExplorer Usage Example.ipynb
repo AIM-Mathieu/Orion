{
 "cells": [
  {
   "cell_type": "markdown",
   "metadata": {},
   "source": [
    "# OrionExplorer Usage Example"
   ]
  },
  {
   "cell_type": "markdown",
   "metadata": {},
   "source": [
    "This is a demo notebook showing how to use the `OrionExplorer` on one of the\n",
    "signals from the Demo Dataset.\n",
    "\n",
    "In this case, we will be processing the `S-1` signal with the `lstm_dynamic_threshold.json`\n",
    "pipeline.\n",
    "\n",
    "Afterwards, we will explore the found events and add some comments on them."
   ]
  },
  {
   "cell_type": "markdown",
   "metadata": {},
   "source": [
    "## 1. Create an OrionExlorer Instance"
   ]
  },
  {
   "cell_type": "markdown",
   "metadata": {},
   "source": [
    "In this first step, we setup the environment, import the `OrionExplorer` and create\n",
    "an instance passing the name of the database which we want to connect to."
   ]
  },
  {
   "cell_type": "code",
   "execution_count": 1,
   "metadata": {},
   "outputs": [],
   "source": [
    "import logging;\n",
    "\n",
    "logging.basicConfig(level=logging.ERROR)\n",
    "logging.getLogger().setLevel(level=logging.ERROR)\n",
    "\n",
    "import warnings\n",
    "warnings.simplefilter(\"ignore\")"
   ]
  },
  {
   "cell_type": "code",
   "execution_count": 2,
   "metadata": {},
   "outputs": [],
   "source": [
    "from orion.explorer import OrionExplorer\n",
    "\n",
    "explorer = OrionExplorer(database='orion-usage-example')"
   ]
  },
  {
   "cell_type": "markdown",
   "metadata": {},
   "source": [
    "In this case we will drop the database before starting to make sure that we are working\n",
    "on a clean environment.\n",
    "\n",
    "**WARNING**: This will remove all the data that exists in this database!"
   ]
  },
  {
   "cell_type": "code",
   "execution_count": 3,
   "metadata": {},
   "outputs": [],
   "source": [
    "explorer.drop_database()"
   ]
  },
  {
   "cell_type": "markdown",
   "metadata": {},
   "source": [
    "## 2. Add the pipeline that we will be using\n",
    "\n",
    "The second step is to register the pipeline that we are going to use by calling the `add_pipeline`\n",
    "method of our `OrionExplorer` instance passing:\n",
    "* the name that we want to give to this pipeline.\n",
    "* the path to the pipeline JSON.\n",
    "\n",
    "We will also capture the output of the `add_pipeline` call, which will be the pipeline object\n",
    "that we will use later on."
   ]
  },
  {
   "cell_type": "code",
   "execution_count": 4,
   "metadata": {},
   "outputs": [
    {
     "data": {
      "text/plain": [
       "<Pipeline: Pipeline object>"
      ]
     },
     "execution_count": 4,
     "metadata": {},
     "output_type": "execute_result"
    }
   ],
   "source": [
    "explorer.add_pipeline(\n",
    "    'lstm_dynamic_threshold',\n",
    "    '../orion/pipelines/lstm_dynamic_threshold.json'\n",
    ")"
   ]
  },
  {
   "cell_type": "markdown",
   "metadata": {},
   "source": [
    "Afterwards, we can obtain the list of pipelines to see if it has been properly registered"
   ]
  },
  {
   "cell_type": "code",
   "execution_count": 5,
   "metadata": {},
   "outputs": [
    {
     "data": {
      "text/html": [
       "<div>\n",
       "<style scoped>\n",
       "    .dataframe tbody tr th:only-of-type {\n",
       "        vertical-align: middle;\n",
       "    }\n",
       "\n",
       "    .dataframe tbody tr th {\n",
       "        vertical-align: top;\n",
       "    }\n",
       "\n",
       "    .dataframe thead th {\n",
       "        text-align: right;\n",
       "    }\n",
       "</style>\n",
       "<table border=\"1\" class=\"dataframe\">\n",
       "  <thead>\n",
       "    <tr style=\"text-align: right;\">\n",
       "      <th></th>\n",
       "      <th>pipeline_id</th>\n",
       "      <th>insert_time</th>\n",
       "      <th>mlpipeline</th>\n",
       "      <th>name</th>\n",
       "    </tr>\n",
       "  </thead>\n",
       "  <tbody>\n",
       "    <tr>\n",
       "      <th>0</th>\n",
       "      <td>5ca78bad6c1cea4c2fe123e2</td>\n",
       "      <td>2019-04-05 17:09:01.114</td>\n",
       "      <td>{'primitives': ['mlprimitives.custom.timeserie...</td>\n",
       "      <td>lstm_dynamic_threshold</td>\n",
       "    </tr>\n",
       "  </tbody>\n",
       "</table>\n",
       "</div>"
      ],
      "text/plain": [
       "                pipeline_id             insert_time  \\\n",
       "0  5ca78bad6c1cea4c2fe123e2 2019-04-05 17:09:01.114   \n",
       "\n",
       "                                          mlpipeline                    name  \n",
       "0  {'primitives': ['mlprimitives.custom.timeserie...  lstm_dynamic_threshold  "
      ]
     },
     "execution_count": 5,
     "metadata": {},
     "output_type": "execute_result"
    }
   ],
   "source": [
    "explorer.get_pipelines()"
   ]
  },
  {
   "cell_type": "markdown",
   "metadata": {},
   "source": [
    "## 3. Register a dataset\n",
    "\n",
    "Now we will register a new dataset, for the signal that we want to process.\n",
    "\n",
    "In order to do this, we will call the `add_dataset` method from our `OrionExplorer` instance\n",
    "passing:\n",
    "\n",
    "* the name that we are giving to this the dataset\n",
    "* the signal that we want to use\n",
    "\n",
    "Just like before, we will also capture the output of the `add_dataset` call in a variable."
   ]
  },
  {
   "cell_type": "code",
   "execution_count": 6,
   "metadata": {},
   "outputs": [
    {
     "data": {
      "text/plain": [
       "<Dataset: Dataset object>"
      ]
     },
     "execution_count": 6,
     "metadata": {},
     "output_type": "execute_result"
    }
   ],
   "source": [
    "explorer.add_dataset('S-1', 'S-1')"
   ]
  },
  {
   "cell_type": "markdown",
   "metadata": {},
   "source": [
    "Afterwards we can check that the dataset was properly registered"
   ]
  },
  {
   "cell_type": "code",
   "execution_count": 7,
   "metadata": {},
   "outputs": [
    {
     "data": {
      "text/html": [
       "<div>\n",
       "<style scoped>\n",
       "    .dataframe tbody tr th:only-of-type {\n",
       "        vertical-align: middle;\n",
       "    }\n",
       "\n",
       "    .dataframe tbody tr th {\n",
       "        vertical-align: top;\n",
       "    }\n",
       "\n",
       "    .dataframe thead th {\n",
       "        text-align: right;\n",
       "    }\n",
       "</style>\n",
       "<table border=\"1\" class=\"dataframe\">\n",
       "  <thead>\n",
       "    <tr style=\"text-align: right;\">\n",
       "      <th></th>\n",
       "      <th>dataset_id</th>\n",
       "      <th>data_location</th>\n",
       "      <th>insert_time</th>\n",
       "      <th>name</th>\n",
       "      <th>signal_set</th>\n",
       "      <th>start_time</th>\n",
       "      <th>stop_time</th>\n",
       "    </tr>\n",
       "  </thead>\n",
       "  <tbody>\n",
       "    <tr>\n",
       "      <th>0</th>\n",
       "      <td>5ca78bae6c1cea4c2fe123e3</td>\n",
       "      <td>S-1</td>\n",
       "      <td>2019-04-05 17:09:02.561</td>\n",
       "      <td>S-1</td>\n",
       "      <td>S-1</td>\n",
       "      <td>1222819200</td>\n",
       "      <td>1442016000</td>\n",
       "    </tr>\n",
       "  </tbody>\n",
       "</table>\n",
       "</div>"
      ],
      "text/plain": [
       "                 dataset_id data_location             insert_time name  \\\n",
       "0  5ca78bae6c1cea4c2fe123e3           S-1 2019-04-05 17:09:02.561  S-1   \n",
       "\n",
       "  signal_set  start_time   stop_time  \n",
       "0        S-1  1222819200  1442016000  "
      ]
     },
     "execution_count": 7,
     "metadata": {},
     "output_type": "execute_result"
    }
   ],
   "source": [
    "explorer.get_datasets()"
   ]
  },
  {
   "cell_type": "markdown",
   "metadata": {},
   "source": [
    "## 4. Run the pipeline on the dataset\n",
    "\n",
    "Once the pipeline and the dataset are registered, we can start the analysis."
   ]
  },
  {
   "cell_type": "code",
   "execution_count": 8,
   "metadata": {},
   "outputs": [
    {
     "name": "stderr",
     "output_type": "stream",
     "text": [
      "Using TensorFlow backend.\n"
     ]
    },
    {
     "data": {
      "text/plain": [
       "<Datarun: Datarun object>"
      ]
     },
     "execution_count": 8,
     "metadata": {},
     "output_type": "execute_result"
    }
   ],
   "source": [
    "explorer.analyze('S-1', 'lstm_dynamic_threshold')"
   ]
  },
  {
   "cell_type": "markdown",
   "metadata": {},
   "source": [
    "## 5. Analyze the results\n",
    "\n",
    "Once the execution has finished, we can explore the Dataruns and the detected Events."
   ]
  },
  {
   "cell_type": "code",
   "execution_count": 14,
   "metadata": {},
   "outputs": [
    {
     "data": {
      "text/html": [
       "<div>\n",
       "<style scoped>\n",
       "    .dataframe tbody tr th:only-of-type {\n",
       "        vertical-align: middle;\n",
       "    }\n",
       "\n",
       "    .dataframe tbody tr th {\n",
       "        vertical-align: top;\n",
       "    }\n",
       "\n",
       "    .dataframe thead th {\n",
       "        text-align: right;\n",
       "    }\n",
       "</style>\n",
       "<table border=\"1\" class=\"dataframe\">\n",
       "  <thead>\n",
       "    <tr style=\"text-align: right;\">\n",
       "      <th></th>\n",
       "      <th>datarun_id</th>\n",
       "      <th>dataset</th>\n",
       "      <th>end_time</th>\n",
       "      <th>events</th>\n",
       "      <th>insert_time</th>\n",
       "      <th>pipeline</th>\n",
       "      <th>start_time</th>\n",
       "      <th>status</th>\n",
       "    </tr>\n",
       "  </thead>\n",
       "  <tbody>\n",
       "    <tr>\n",
       "      <th>0</th>\n",
       "      <td>5ca787aa6c1cea34a558bf83</td>\n",
       "      <td>5ca787a66c1cea34a558bf82</td>\n",
       "      <td>2019-04-05 16:56:29.617</td>\n",
       "      <td>1</td>\n",
       "      <td>2019-04-05 16:51:54.510</td>\n",
       "      <td>5ca787a56c1cea34a558bf81</td>\n",
       "      <td>2019-04-05 16:51:54.509</td>\n",
       "      <td>done</td>\n",
       "    </tr>\n",
       "  </tbody>\n",
       "</table>\n",
       "</div>"
      ],
      "text/plain": [
       "                 datarun_id                   dataset                end_time  \\\n",
       "0  5ca787aa6c1cea34a558bf83  5ca787a66c1cea34a558bf82 2019-04-05 16:56:29.617   \n",
       "\n",
       "   events             insert_time                  pipeline  \\\n",
       "0       1 2019-04-05 16:51:54.510  5ca787a56c1cea34a558bf81   \n",
       "\n",
       "               start_time status  \n",
       "0 2019-04-05 16:51:54.509   done  "
      ]
     },
     "execution_count": 14,
     "metadata": {},
     "output_type": "execute_result"
    }
   ],
   "source": [
    "explorer.get_dataruns()"
   ]
  },
  {
   "cell_type": "code",
   "execution_count": 15,
   "metadata": {},
   "outputs": [
    {
     "data": {
      "text/html": [
       "<div>\n",
       "<style scoped>\n",
       "    .dataframe tbody tr th:only-of-type {\n",
       "        vertical-align: middle;\n",
       "    }\n",
       "\n",
       "    .dataframe tbody tr th {\n",
       "        vertical-align: top;\n",
       "    }\n",
       "\n",
       "    .dataframe thead th {\n",
       "        text-align: right;\n",
       "    }\n",
       "</style>\n",
       "<table border=\"1\" class=\"dataframe\">\n",
       "  <thead>\n",
       "    <tr style=\"text-align: right;\">\n",
       "      <th></th>\n",
       "      <th>event_id</th>\n",
       "      <th>datarun</th>\n",
       "      <th>insert_time</th>\n",
       "      <th>score</th>\n",
       "      <th>start_time</th>\n",
       "      <th>stop_time</th>\n",
       "      <th>comments</th>\n",
       "    </tr>\n",
       "  </thead>\n",
       "  <tbody>\n",
       "    <tr>\n",
       "      <th>0</th>\n",
       "      <td>5ca788bd6c1cea34a558bf84</td>\n",
       "      <td>5ca787aa6c1cea34a558bf83</td>\n",
       "      <td>2019-04-05 16:56:29.571</td>\n",
       "      <td>0.139298</td>\n",
       "      <td>1398297600</td>\n",
       "      <td>1399420800</td>\n",
       "      <td>0</td>\n",
       "    </tr>\n",
       "  </tbody>\n",
       "</table>\n",
       "</div>"
      ],
      "text/plain": [
       "                   event_id                   datarun             insert_time  \\\n",
       "0  5ca788bd6c1cea34a558bf84  5ca787aa6c1cea34a558bf83 2019-04-05 16:56:29.571   \n",
       "\n",
       "      score  start_time   stop_time  comments  \n",
       "0  0.139298  1398297600  1399420800         0  "
      ]
     },
     "execution_count": 15,
     "metadata": {},
     "output_type": "execute_result"
    }
   ],
   "source": [
    "explorer.get_events()"
   ]
  }
 ],
 "metadata": {
  "kernelspec": {
   "display_name": "Python 3",
   "language": "python",
   "name": "python3"
  },
  "language_info": {
   "codemirror_mode": {
    "name": "ipython",
    "version": 3
   },
   "file_extension": ".py",
   "mimetype": "text/x-python",
   "name": "python",
   "nbconvert_exporter": "python",
   "pygments_lexer": "ipython3",
   "version": "3.6.7"
  }
 },
 "nbformat": 4,
 "nbformat_minor": 2
}
