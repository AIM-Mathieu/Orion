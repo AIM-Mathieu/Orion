{
 "cells": [
  {
   "cell_type": "markdown",
   "metadata": {},
   "source": [
    "# Predicting anomalies on NASA data using dummy primitives"
   ]
  },
  {
   "cell_type": "markdown",
   "metadata": {},
   "source": [
    "This is a demo notebook that shows how to use the dummy primitives included\n",
    "in the repository to build a pipeline that detects anomalies and returns them\n",
    "in the `(start, stop, severity)` format."
   ]
  },
  {
   "cell_type": "code",
   "execution_count": 1,
   "metadata": {},
   "outputs": [],
   "source": [
    "import pandas as pd\n",
    "from mlblocks import add_primitives_path, MLPipeline\n",
    "\n",
    "from orion.data import load_signal\n",
    "\n",
    "data = load_signal('S-1')"
   ]
  },
  {
   "cell_type": "code",
   "execution_count": 2,
   "metadata": {},
   "outputs": [
    {
     "data": {
      "text/plain": [
       "(10149, 2)"
      ]
     },
     "execution_count": 2,
     "metadata": {},
     "output_type": "execute_result"
    }
   ],
   "source": [
    "data.shape"
   ]
  },
  {
   "cell_type": "code",
   "execution_count": 3,
   "metadata": {},
   "outputs": [],
   "source": [
    "pipeline = {\n",
    "    'primitives': [\n",
    "        'orion.primitives.estimators.MeanEstimator',\n",
    "        'orion.primitives.detectors.ThresholdDetector',\n",
    "        'orion.primitives.intervals.build_anomaly_intervals'\n",
    "    ],\n",
    "    'init_params': {\n",
    "        'orion.primitives.detectors.ThresholdDetector#1': {\n",
    "            'ratio': 0.01\n",
    "        },\n",
    "        'orion.primitives.intervals.build_anomaly_intervals#1': {\n",
    "            'time_column': 'timestamp',\n",
    "            'indices': True,\n",
    "            'severity': True\n",
    "        }\n",
    "    }\n",
    "}"
   ]
  },
  {
   "cell_type": "code",
   "execution_count": 4,
   "metadata": {},
   "outputs": [
    {
     "name": "stderr",
     "output_type": "stream",
     "text": [
      "Using TensorFlow backend.\n"
     ]
    }
   ],
   "source": [
    "mlpipeline = MLPipeline.from_dict(pipeline)"
   ]
  },
  {
   "cell_type": "code",
   "execution_count": 5,
   "metadata": {},
   "outputs": [],
   "source": [
    "mlpipeline.fit(data)"
   ]
  },
  {
   "cell_type": "code",
   "execution_count": 6,
   "metadata": {},
   "outputs": [],
   "source": [
    "anomalies = mlpipeline.predict(data)\n",
    "anomalies = pd.DataFrame(anomalies, columns=['start_ts', 'end_ts', 'start', 'end', 'severity'])\n",
    "anomalies = anomalies[['start_ts', 'end_ts', 'severity']]"
   ]
  },
  {
   "cell_type": "code",
   "execution_count": 7,
   "metadata": {},
   "outputs": [
    {
     "data": {
      "text/html": [
       "<div>\n",
       "<style scoped>\n",
       "    .dataframe tbody tr th:only-of-type {\n",
       "        vertical-align: middle;\n",
       "    }\n",
       "\n",
       "    .dataframe tbody tr th {\n",
       "        vertical-align: top;\n",
       "    }\n",
       "\n",
       "    .dataframe thead th {\n",
       "        text-align: right;\n",
       "    }\n",
       "</style>\n",
       "<table border=\"1\" class=\"dataframe\">\n",
       "  <thead>\n",
       "    <tr style=\"text-align: right;\">\n",
       "      <th></th>\n",
       "      <th>start_ts</th>\n",
       "      <th>end_ts</th>\n",
       "      <th>severity</th>\n",
       "    </tr>\n",
       "  </thead>\n",
       "  <tbody>\n",
       "    <tr>\n",
       "      <th>0</th>\n",
       "      <td>1222819200</td>\n",
       "      <td>1229320800</td>\n",
       "      <td>0.338603</td>\n",
       "    </tr>\n",
       "    <tr>\n",
       "      <th>1</th>\n",
       "      <td>1229342400</td>\n",
       "      <td>1233489600</td>\n",
       "      <td>0.332228</td>\n",
       "    </tr>\n",
       "    <tr>\n",
       "      <th>2</th>\n",
       "      <td>1233511200</td>\n",
       "      <td>1246212000</td>\n",
       "      <td>0.329621</td>\n",
       "    </tr>\n",
       "    <tr>\n",
       "      <th>3</th>\n",
       "      <td>1246233600</td>\n",
       "      <td>1268071200</td>\n",
       "      <td>0.335394</td>\n",
       "    </tr>\n",
       "    <tr>\n",
       "      <th>4</th>\n",
       "      <td>1268092800</td>\n",
       "      <td>1293818400</td>\n",
       "      <td>0.334081</td>\n",
       "    </tr>\n",
       "    <tr>\n",
       "      <th>5</th>\n",
       "      <td>1293840000</td>\n",
       "      <td>1300255200</td>\n",
       "      <td>0.340247</td>\n",
       "    </tr>\n",
       "    <tr>\n",
       "      <th>6</th>\n",
       "      <td>1300276800</td>\n",
       "      <td>1302048000</td>\n",
       "      <td>0.351320</td>\n",
       "    </tr>\n",
       "    <tr>\n",
       "      <th>7</th>\n",
       "      <td>1302069600</td>\n",
       "      <td>1306584000</td>\n",
       "      <td>0.336726</td>\n",
       "    </tr>\n",
       "    <tr>\n",
       "      <th>8</th>\n",
       "      <td>1306605600</td>\n",
       "      <td>1320926400</td>\n",
       "      <td>0.322340</td>\n",
       "    </tr>\n",
       "    <tr>\n",
       "      <th>9</th>\n",
       "      <td>1320948000</td>\n",
       "      <td>1322935200</td>\n",
       "      <td>0.370946</td>\n",
       "    </tr>\n",
       "    <tr>\n",
       "      <th>10</th>\n",
       "      <td>1322956800</td>\n",
       "      <td>1333281600</td>\n",
       "      <td>0.330883</td>\n",
       "    </tr>\n",
       "    <tr>\n",
       "      <th>11</th>\n",
       "      <td>1333303200</td>\n",
       "      <td>1352592000</td>\n",
       "      <td>0.333190</td>\n",
       "    </tr>\n",
       "    <tr>\n",
       "      <th>12</th>\n",
       "      <td>1352613600</td>\n",
       "      <td>1381752000</td>\n",
       "      <td>0.322367</td>\n",
       "    </tr>\n",
       "    <tr>\n",
       "      <th>13</th>\n",
       "      <td>1381773600</td>\n",
       "      <td>1440439200</td>\n",
       "      <td>0.370307</td>\n",
       "    </tr>\n",
       "    <tr>\n",
       "      <th>14</th>\n",
       "      <td>1440460800</td>\n",
       "      <td>1440568800</td>\n",
       "      <td>0.378627</td>\n",
       "    </tr>\n",
       "    <tr>\n",
       "      <th>15</th>\n",
       "      <td>1440590400</td>\n",
       "      <td>1442016000</td>\n",
       "      <td>0.323372</td>\n",
       "    </tr>\n",
       "  </tbody>\n",
       "</table>\n",
       "</div>"
      ],
      "text/plain": [
       "      start_ts      end_ts  severity\n",
       "0   1222819200  1229320800  0.338603\n",
       "1   1229342400  1233489600  0.332228\n",
       "2   1233511200  1246212000  0.329621\n",
       "3   1246233600  1268071200  0.335394\n",
       "4   1268092800  1293818400  0.334081\n",
       "5   1293840000  1300255200  0.340247\n",
       "6   1300276800  1302048000  0.351320\n",
       "7   1302069600  1306584000  0.336726\n",
       "8   1306605600  1320926400  0.322340\n",
       "9   1320948000  1322935200  0.370946\n",
       "10  1322956800  1333281600  0.330883\n",
       "11  1333303200  1352592000  0.333190\n",
       "12  1352613600  1381752000  0.322367\n",
       "13  1381773600  1440439200  0.370307\n",
       "14  1440460800  1440568800  0.378627\n",
       "15  1440590400  1442016000  0.323372"
      ]
     },
     "execution_count": 7,
     "metadata": {},
     "output_type": "execute_result"
    }
   ],
   "source": [
    "anomalies['start_ts'] = anomalies['start_ts'].astype(int)\n",
    "anomalies['end_ts'] = anomalies['end_ts'].astype(int)\n",
    "\n",
    "anomalies"
   ]
  }
 ],
 "metadata": {
  "kernelspec": {
   "display_name": "Python 3",
   "language": "python",
   "name": "python3"
  },
  "language_info": {
   "codemirror_mode": {
    "name": "ipython",
    "version": 3
   },
   "file_extension": ".py",
   "mimetype": "text/x-python",
   "name": "python",
   "nbconvert_exporter": "python",
   "pygments_lexer": "ipython3",
   "version": "3.6.7"
  }
 },
 "nbformat": 4,
 "nbformat_minor": 2
}
