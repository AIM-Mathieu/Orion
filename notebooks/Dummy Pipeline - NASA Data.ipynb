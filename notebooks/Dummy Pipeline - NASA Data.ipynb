{
 "cells": [
  {
   "cell_type": "markdown",
   "metadata": {},
   "source": [
    "# Predicting anomalies on NASA data using dummy primitives"
   ]
  },
  {
   "cell_type": "markdown",
   "metadata": {},
   "source": [
    "This is a demo notebook that shows how to use the dummy primitives included\n",
    "in the repository to build a pipeline that detects anomalies and returns them\n",
    "in the `(start, stop, severity)` format."
   ]
  },
  {
   "cell_type": "code",
   "execution_count": 1,
   "metadata": {},
   "outputs": [],
   "source": [
    "import pandas as pd\n",
    "from mlblocks import add_primitives_path, MLPipeline\n",
    "\n",
    "from orion.data import load_nasa_signal\n",
    "\n",
    "train, test = load_nasa_signal('P-3', test_size=0.3)"
   ]
  },
  {
   "cell_type": "code",
   "execution_count": 2,
   "metadata": {},
   "outputs": [],
   "source": [
    "add_primitives_path('../orion/primitives')"
   ]
  },
  {
   "cell_type": "code",
   "execution_count": 13,
   "metadata": {},
   "outputs": [],
   "source": [
    "pipeline = {\n",
    "    'primitives': [\n",
    "        'orion.estimators.MeanEstimator',\n",
    "        'orion.detectors.ThresholdDetector',\n",
    "        'orion.intervals.build_anomaly_intervals'\n",
    "    ],\n",
    "    'init_params': {\n",
    "        'mlprimitives.custom.trivial.TrivialPredictor#1': {\n",
    "            'method': 'mean'\n",
    "        },\n",
    "        'orion.detectors.ThresholdDetector#1': {\n",
    "            'ratio': 0.5\n",
    "        },\n",
    "        'orion.intervals.build_anomaly_intervals#1': {\n",
    "            'time_column': 'timestamp'\n",
    "        }\n",
    "    }\n",
    "}"
   ]
  },
  {
   "cell_type": "code",
   "execution_count": 14,
   "metadata": {},
   "outputs": [],
   "source": [
    "mlpipeline = MLPipeline.from_dict(pipeline)"
   ]
  },
  {
   "cell_type": "code",
   "execution_count": 15,
   "metadata": {},
   "outputs": [],
   "source": [
    "mlpipeline.fit(train)"
   ]
  },
  {
   "cell_type": "code",
   "execution_count": 16,
   "metadata": {},
   "outputs": [],
   "source": [
    "anomalies = mlpipeline.predict(test)\n",
    "anomalies = pd.DataFrame(anomalies, columns=['start', 'end', 'severity'])"
   ]
  },
  {
   "cell_type": "code",
   "execution_count": 17,
   "metadata": {},
   "outputs": [
    {
     "data": {
      "text/html": [
       "<div>\n",
       "<style scoped>\n",
       "    .dataframe tbody tr th:only-of-type {\n",
       "        vertical-align: middle;\n",
       "    }\n",
       "\n",
       "    .dataframe tbody tr th {\n",
       "        vertical-align: top;\n",
       "    }\n",
       "\n",
       "    .dataframe thead th {\n",
       "        text-align: right;\n",
       "    }\n",
       "</style>\n",
       "<table border=\"1\" class=\"dataframe\">\n",
       "  <thead>\n",
       "    <tr style=\"text-align: right;\">\n",
       "      <th></th>\n",
       "      <th>start</th>\n",
       "      <th>end</th>\n",
       "      <th>severity</th>\n",
       "    </tr>\n",
       "  </thead>\n",
       "  <tbody>\n",
       "    <tr>\n",
       "      <th>0</th>\n",
       "      <td>1523232000</td>\n",
       "      <td>1523253600</td>\n",
       "      <td>0.341659</td>\n",
       "    </tr>\n",
       "    <tr>\n",
       "      <th>1</th>\n",
       "      <td>1523275200</td>\n",
       "      <td>1523296800</td>\n",
       "      <td>0.525991</td>\n",
       "    </tr>\n",
       "    <tr>\n",
       "      <th>2</th>\n",
       "      <td>1523383200</td>\n",
       "      <td>1523491200</td>\n",
       "      <td>0.197364</td>\n",
       "    </tr>\n",
       "    <tr>\n",
       "      <th>3</th>\n",
       "      <td>1523815200</td>\n",
       "      <td>1523880000</td>\n",
       "      <td>0.069584</td>\n",
       "    </tr>\n",
       "    <tr>\n",
       "      <th>4</th>\n",
       "      <td>1524290400</td>\n",
       "      <td>1524312000</td>\n",
       "      <td>0.016495</td>\n",
       "    </tr>\n",
       "  </tbody>\n",
       "</table>\n",
       "</div>"
      ],
      "text/plain": [
       "        start         end  severity\n",
       "0  1523232000  1523253600  0.341659\n",
       "1  1523275200  1523296800  0.525991\n",
       "2  1523383200  1523491200  0.197364\n",
       "3  1523815200  1523880000  0.069584\n",
       "4  1524290400  1524312000  0.016495"
      ]
     },
     "execution_count": 17,
     "metadata": {},
     "output_type": "execute_result"
    }
   ],
   "source": [
    "anomalies['start'] = anomalies['start'].astype(int)\n",
    "anomalies['end'] = anomalies['end'].astype(int)\n",
    "\n",
    "anomalies.head()"
   ]
  }
 ],
 "metadata": {
  "kernelspec": {
   "display_name": "Python 3",
   "language": "python",
   "name": "python3"
  },
  "language_info": {
   "codemirror_mode": {
    "name": "ipython",
    "version": 3
   },
   "file_extension": ".py",
   "mimetype": "text/x-python",
   "name": "python",
   "nbconvert_exporter": "python",
   "pygments_lexer": "ipython3",
   "version": "3.6.7"
  }
 },
 "nbformat": 4,
 "nbformat_minor": 2
}
