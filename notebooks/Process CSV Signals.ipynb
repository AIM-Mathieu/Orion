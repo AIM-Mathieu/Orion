{
 "cells": [
  {
   "cell_type": "markdown",
   "metadata": {},
   "source": [
    "# Process CSV Signals"
   ]
  },
  {
   "cell_type": "markdown",
   "metadata": {},
   "source": [
    "This is a demo notebook showing how to use the `lstm_dynamic_threshold.json` pipeline to analyze a collection of signal CSV files and later on retrieve the list of Events found."
   ]
  },
  {
   "cell_type": "markdown",
   "metadata": {},
   "source": [
    "## 1. Create an OrionExlorer Instance"
   ]
  },
  {
   "cell_type": "markdown",
   "metadata": {},
   "source": [
    "The first step is to import the `OrionExplorer` and create an instance.\n",
    "\n",
    "In this case, we will provide no arguments, since we want to connect to the default database, named `orion`, at localhost."
   ]
  },
  {
   "cell_type": "code",
   "execution_count": 1,
   "metadata": {},
   "outputs": [],
   "source": [
    "from orion.explorer import OrionExplorer"
   ]
  },
  {
   "cell_type": "code",
   "execution_count": 2,
   "metadata": {},
   "outputs": [],
   "source": [
    "explorer = OrionExplorer()\n",
    "explorer.drop_database()  # in case name signals already exist"
   ]
  },
  {
   "cell_type": "markdown",
   "metadata": {},
   "source": [
    "## 2. Add the pipeline that we will be using\n",
    "\n",
    "The second step is to register the pipeline that we are going to use.\n",
    "\n",
    "For this, we will enter the path to the `lstm_dynamic_threshold` json."
   ]
  },
  {
   "cell_type": "code",
   "execution_count": 4,
   "metadata": {},
   "outputs": [],
   "source": [
    "pipeline = explorer.add_pipeline(\n",
    "    'lstm_dynamic_threshold',\n",
    "    '../orion/pipelines/lstm_dynamic_threshold.json'\n",
    ")"
   ]
  },
  {
   "cell_type": "markdown",
   "metadata": {},
   "source": [
    "Afterwards, we can obtain the list of pipelines to see if it has been properly registered"
   ]
  },
  {
   "cell_type": "code",
   "execution_count": 5,
   "metadata": {},
   "outputs": [
    {
     "data": {
      "text/html": [
       "<div>\n",
       "<style scoped>\n",
       "    .dataframe tbody tr th:only-of-type {\n",
       "        vertical-align: middle;\n",
       "    }\n",
       "\n",
       "    .dataframe tbody tr th {\n",
       "        vertical-align: top;\n",
       "    }\n",
       "\n",
       "    .dataframe thead th {\n",
       "        text-align: right;\n",
       "    }\n",
       "</style>\n",
       "<table border=\"1\" class=\"dataframe\">\n",
       "  <thead>\n",
       "    <tr style=\"text-align: right;\">\n",
       "      <th></th>\n",
       "      <th>pipeline_id</th>\n",
       "      <th>insert_time</th>\n",
       "      <th>mlpipeline</th>\n",
       "      <th>name</th>\n",
       "    </tr>\n",
       "  </thead>\n",
       "  <tbody>\n",
       "    <tr>\n",
       "      <th>0</th>\n",
       "      <td>5c9bbf556c1cea7f0a5e6a34</td>\n",
       "      <td>2019-03-27 18:22:13.097</td>\n",
       "      <td>{'primitives': ['mlprimitives.custom.timeserie...</td>\n",
       "      <td>lstm_dynamic_threshold</td>\n",
       "    </tr>\n",
       "  </tbody>\n",
       "</table>\n",
       "</div>"
      ],
      "text/plain": [
       "                pipeline_id             insert_time  \\\n",
       "0  5c9bbf556c1cea7f0a5e6a34 2019-03-27 18:22:13.097   \n",
       "\n",
       "                                          mlpipeline                    name  \n",
       "0  {'primitives': ['mlprimitives.custom.timeserie...  lstm_dynamic_threshold  "
      ]
     },
     "execution_count": 5,
     "metadata": {},
     "output_type": "execute_result"
    }
   ],
   "source": [
    "explorer.get_pipelines()"
   ]
  },
  {
   "cell_type": "markdown",
   "metadata": {},
   "source": [
    "## 3. Get the list of CSV files"
   ]
  },
  {
   "cell_type": "markdown",
   "metadata": {},
   "source": [
    "In this example we will use the `os` module to find the list of CSV files that exist inside the directory\n",
    "`data` that we have created inside this `notebooks` folder.\n",
    "\n",
    "Another way to do it would be to provide an explicit list of filenames"
   ]
  },
  {
   "cell_type": "code",
   "execution_count": 6,
   "metadata": {},
   "outputs": [
    {
     "data": {
      "text/plain": [
       "['S-1.csv', 'S-2.csv', 'P-1.csv', 'E-1.csv']"
      ]
     },
     "execution_count": 6,
     "metadata": {},
     "output_type": "execute_result"
    }
   ],
   "source": [
    "import os\n",
    "\n",
    "CSVS_FOLDER = './data'\n",
    "\n",
    "csvs = os.listdir(CSVS_FOLDER)\n",
    "csvs"
   ]
  },
  {
   "cell_type": "markdown",
   "metadata": {},
   "source": [
    "## 3. Register the new datasets\n",
    "\n",
    "We will execute a loop in which, for each CSV file, we will register a new Dataset in the Database.\n",
    "\n",
    "For each CSV, the name that we will use for dataset and the signal will be name of the file without the `.csv` extension, and will be leaving the satellite_id blank.\n",
    "\n",
    "In this case we need no additional arguments, such as timestamp_column or value_column, but if they were required\n",
    "we would add them to the `add_dataset` call.\n",
    "\n",
    "We will also capture the output of the `add_dataset` call in a list, so we can use these datasets later on."
   ]
  },
  {
   "cell_type": "code",
   "execution_count": 7,
   "metadata": {},
   "outputs": [
    {
     "name": "stdout",
     "output_type": "stream",
     "text": [
      "Adding dataset S-1 for CSV ./data/S-1.csv\n",
      "Adding dataset S-2 for CSV ./data/S-2.csv\n",
      "Adding dataset P-1 for CSV ./data/P-1.csv\n",
      "Adding dataset E-1 for CSV ./data/E-1.csv\n"
     ]
    }
   ],
   "source": [
    "datasets = list()\n",
    "cwd = os.getcwd()\n",
    "\n",
    "for path in csvs:\n",
    "    name = os.path.basename(path)[:-4]\n",
    "    location = os.path.join(CSVS_FOLDER, path)\n",
    "    print('Adding dataset {} for CSV {}'.format(name, location))\n",
    "    dataset = explorer.add_dataset(\n",
    "        name,\n",
    "        name,\n",
    "        location=location,\n",
    "        timestamp_column=None,    # Replace if needed\n",
    "        value_column=None,        # Replace if needed\n",
    "    )\n",
    "    datasets.append(dataset)"
   ]
  },
  {
   "cell_type": "markdown",
   "metadata": {},
   "source": [
    "Afterwards we can check that the datasets were properly registered"
   ]
  },
  {
   "cell_type": "code",
   "execution_count": 8,
   "metadata": {},
   "outputs": [
    {
     "data": {
      "text/html": [
       "<div>\n",
       "<style scoped>\n",
       "    .dataframe tbody tr th:only-of-type {\n",
       "        vertical-align: middle;\n",
       "    }\n",
       "\n",
       "    .dataframe tbody tr th {\n",
       "        vertical-align: top;\n",
       "    }\n",
       "\n",
       "    .dataframe thead th {\n",
       "        text-align: right;\n",
       "    }\n",
       "</style>\n",
       "<table border=\"1\" class=\"dataframe\">\n",
       "  <thead>\n",
       "    <tr style=\"text-align: right;\">\n",
       "      <th></th>\n",
       "      <th>dataset_id</th>\n",
       "      <th>data_location</th>\n",
       "      <th>insert_time</th>\n",
       "      <th>name</th>\n",
       "      <th>signal_set</th>\n",
       "      <th>start_time</th>\n",
       "      <th>stop_time</th>\n",
       "    </tr>\n",
       "  </thead>\n",
       "  <tbody>\n",
       "    <tr>\n",
       "      <th>0</th>\n",
       "      <td>5c9bbf556c1cea7f0a5e6a35</td>\n",
       "      <td>./data/S-1.csv</td>\n",
       "      <td>2019-03-27 18:22:13.330</td>\n",
       "      <td>S-1</td>\n",
       "      <td>S-1</td>\n",
       "      <td>1222819200</td>\n",
       "      <td>1442016000</td>\n",
       "    </tr>\n",
       "    <tr>\n",
       "      <th>1</th>\n",
       "      <td>5c9bbf556c1cea7f0a5e6a36</td>\n",
       "      <td>./data/S-2.csv</td>\n",
       "      <td>2019-03-27 18:22:13.431</td>\n",
       "      <td>S-2</td>\n",
       "      <td>S-2</td>\n",
       "      <td>1222819200</td>\n",
       "      <td>1282262400</td>\n",
       "    </tr>\n",
       "    <tr>\n",
       "      <th>2</th>\n",
       "      <td>5c9bbf556c1cea7f0a5e6a37</td>\n",
       "      <td>./data/P-1.csv</td>\n",
       "      <td>2019-03-27 18:22:13.457</td>\n",
       "      <td>P-1</td>\n",
       "      <td>P-1</td>\n",
       "      <td>1222819200</td>\n",
       "      <td>1468540800</td>\n",
       "    </tr>\n",
       "    <tr>\n",
       "      <th>3</th>\n",
       "      <td>5c9bbf556c1cea7f0a5e6a38</td>\n",
       "      <td>./data/E-1.csv</td>\n",
       "      <td>2019-03-27 18:22:13.469</td>\n",
       "      <td>E-1</td>\n",
       "      <td>E-1</td>\n",
       "      <td>1222819200</td>\n",
       "      <td>1468951200</td>\n",
       "    </tr>\n",
       "  </tbody>\n",
       "</table>\n",
       "</div>"
      ],
      "text/plain": [
       "                 dataset_id   data_location             insert_time name  \\\n",
       "0  5c9bbf556c1cea7f0a5e6a35  ./data/S-1.csv 2019-03-27 18:22:13.330  S-1   \n",
       "1  5c9bbf556c1cea7f0a5e6a36  ./data/S-2.csv 2019-03-27 18:22:13.431  S-2   \n",
       "2  5c9bbf556c1cea7f0a5e6a37  ./data/P-1.csv 2019-03-27 18:22:13.457  P-1   \n",
       "3  5c9bbf556c1cea7f0a5e6a38  ./data/E-1.csv 2019-03-27 18:22:13.469  E-1   \n",
       "\n",
       "  signal_set  start_time   stop_time  \n",
       "0        S-1  1222819200  1442016000  \n",
       "1        S-2  1222819200  1282262400  \n",
       "2        P-1  1222819200  1468540800  \n",
       "3        E-1  1222819200  1468951200  "
      ]
     },
     "execution_count": 8,
     "metadata": {},
     "output_type": "execute_result"
    }
   ],
   "source": [
    "explorer.get_datasets()"
   ]
  },
  {
   "cell_type": "markdown",
   "metadata": {},
   "source": [
    "## 4. Run the pipeline on the datasets\n",
    "\n",
    "Once the pipeline and the datasets are registered, we can start the processing loop."
   ]
  },
  {
   "cell_type": "code",
   "execution_count": 13,
   "metadata": {},
   "outputs": [
    {
     "name": "stdout",
     "output_type": "stream",
     "text": [
      "Analyzing dataset S-1\n"
     ]
    },
    {
     "name": "stderr",
     "output_type": "stream",
     "text": [
      "Using TensorFlow backend.\n"
     ]
    },
    {
     "name": "stdout",
     "output_type": "stream",
     "text": [
      "WARNING:tensorflow:From /home/xals/.virtualenvs/Orion/lib/python3.6/site-packages/tensorflow/python/framework/op_def_library.py:263: colocate_with (from tensorflow.python.framework.ops) is deprecated and will be removed in a future version.\n",
      "Instructions for updating:\n",
      "Colocations handled automatically by placer.\n",
      "WARNING:tensorflow:From /home/xals/.virtualenvs/Orion/lib/python3.6/site-packages/keras/backend/tensorflow_backend.py:3445: calling dropout (from tensorflow.python.ops.nn_ops) with keep_prob is deprecated and will be removed in a future version.\n",
      "Instructions for updating:\n",
      "Please use `rate` instead of `keep_prob`. Rate should be set to `rate = 1 - keep_prob`.\n",
      "WARNING:tensorflow:From /home/xals/.virtualenvs/Orion/lib/python3.6/site-packages/tensorflow/python/ops/math_ops.py:3066: to_int32 (from tensorflow.python.ops.math_ops) is deprecated and will be removed in a future version.\n",
      "Instructions for updating:\n",
      "Use tf.cast instead.\n",
      "Epoch 1/1\n",
      "9899/9899 [==============================] - 56s 6ms/step - loss: 0.0551 - mean_squared_error: 0.0551\n"
     ]
    },
    {
     "name": "stderr",
     "output_type": "stream",
     "text": [
      "/home/xals/.virtualenvs/Orion/lib/python3.6/site-packages/scipy/optimize/optimize.py:570: RuntimeWarning: invalid value encountered in subtract\n",
      "  numpy.max(numpy.abs(fsim[0] - fsim[1:])) <= fatol):\n"
     ]
    },
    {
     "name": "stdout",
     "output_type": "stream",
     "text": [
      "Analyzing dataset S-2\n",
      "Epoch 1/1\n",
      "2503/2503 [==============================] - 15s 6ms/step - loss: 0.0012 - mean_squared_error: 0.0012\n",
      "Analyzing dataset P-1\n",
      "Epoch 1/1\n",
      "11127/11127 [==============================] - 63s 6ms/step - loss: 0.0210 - mean_squared_error: 0.0210\n"
     ]
    },
    {
     "name": "stderr",
     "output_type": "stream",
     "text": [
      "/home/xals/.virtualenvs/Orion/lib/python3.6/site-packages/scipy/optimize/optimize.py:570: RuntimeWarning: invalid value encountered in subtract\n",
      "  numpy.max(numpy.abs(fsim[0] - fsim[1:])) <= fatol):\n"
     ]
    },
    {
     "name": "stdout",
     "output_type": "stream",
     "text": [
      "Analyzing dataset E-1\n",
      "Epoch 1/1\n",
      "11146/11146 [==============================] - 62s 6ms/step - loss: 0.0467 - mean_squared_error: 0.0467\n"
     ]
    },
    {
     "name": "stderr",
     "output_type": "stream",
     "text": [
      "/home/xals/.virtualenvs/Orion/lib/python3.6/site-packages/scipy/optimize/optimize.py:570: RuntimeWarning: invalid value encountered in subtract\n",
      "  numpy.max(numpy.abs(fsim[0] - fsim[1:])) <= fatol):\n"
     ]
    }
   ],
   "source": [
    "for dataset in datasets:\n",
    "    print('Analyzing dataset {}'.format(dataset.name))\n",
    "    explorer.analyze(dataset.name, pipeline.name)"
   ]
  },
  {
   "cell_type": "markdown",
   "metadata": {},
   "source": [
    "## 5. Analyze the results\n",
    "\n",
    "Once the execution has finished, we can explore the Dataruns and the detected Events."
   ]
  },
  {
   "cell_type": "code",
   "execution_count": 14,
   "metadata": {},
   "outputs": [
    {
     "data": {
      "text/html": [
       "<div>\n",
       "<style scoped>\n",
       "    .dataframe tbody tr th:only-of-type {\n",
       "        vertical-align: middle;\n",
       "    }\n",
       "\n",
       "    .dataframe tbody tr th {\n",
       "        vertical-align: top;\n",
       "    }\n",
       "\n",
       "    .dataframe thead th {\n",
       "        text-align: right;\n",
       "    }\n",
       "</style>\n",
       "<table border=\"1\" class=\"dataframe\">\n",
       "  <thead>\n",
       "    <tr style=\"text-align: right;\">\n",
       "      <th></th>\n",
       "      <th>datarun_id</th>\n",
       "      <th>dataset</th>\n",
       "      <th>end_time</th>\n",
       "      <th>events</th>\n",
       "      <th>insert_time</th>\n",
       "      <th>pipeline</th>\n",
       "      <th>start_time</th>\n",
       "      <th>status</th>\n",
       "    </tr>\n",
       "  </thead>\n",
       "  <tbody>\n",
       "    <tr>\n",
       "      <th>0</th>\n",
       "      <td>5c9bbfc36c1cea7f0a5e6a39</td>\n",
       "      <td>5c9bbf556c1cea7f0a5e6a35</td>\n",
       "      <td>2019-03-27 18:25:28.173</td>\n",
       "      <td>1</td>\n",
       "      <td>2019-03-27 18:24:03.281</td>\n",
       "      <td>5c9bbf556c1cea7f0a5e6a34</td>\n",
       "      <td>2019-03-27 18:24:03.280</td>\n",
       "      <td>done</td>\n",
       "    </tr>\n",
       "    <tr>\n",
       "      <th>1</th>\n",
       "      <td>5c9bc0186c1cea7f0a5e6a3b</td>\n",
       "      <td>5c9bbf556c1cea7f0a5e6a36</td>\n",
       "      <td>2019-03-27 18:25:51.752</td>\n",
       "      <td>1</td>\n",
       "      <td>2019-03-27 18:25:28.300</td>\n",
       "      <td>5c9bbf556c1cea7f0a5e6a34</td>\n",
       "      <td>2019-03-27 18:25:28.299</td>\n",
       "      <td>done</td>\n",
       "    </tr>\n",
       "    <tr>\n",
       "      <th>2</th>\n",
       "      <td>5c9bc02f6c1cea7f0a5e6a3d</td>\n",
       "      <td>5c9bbf556c1cea7f0a5e6a37</td>\n",
       "      <td>2019-03-27 18:27:27.937</td>\n",
       "      <td>10</td>\n",
       "      <td>2019-03-27 18:25:51.849</td>\n",
       "      <td>5c9bbf556c1cea7f0a5e6a34</td>\n",
       "      <td>2019-03-27 18:25:51.848</td>\n",
       "      <td>done</td>\n",
       "    </tr>\n",
       "    <tr>\n",
       "      <th>3</th>\n",
       "      <td>5c9bc0906c1cea7f0a5e6a48</td>\n",
       "      <td>5c9bbf556c1cea7f0a5e6a38</td>\n",
       "      <td>2019-03-27 18:29:03.660</td>\n",
       "      <td>1</td>\n",
       "      <td>2019-03-27 18:27:28.032</td>\n",
       "      <td>5c9bbf556c1cea7f0a5e6a34</td>\n",
       "      <td>2019-03-27 18:27:28.031</td>\n",
       "      <td>done</td>\n",
       "    </tr>\n",
       "  </tbody>\n",
       "</table>\n",
       "</div>"
      ],
      "text/plain": [
       "                 datarun_id                   dataset                end_time  \\\n",
       "0  5c9bbfc36c1cea7f0a5e6a39  5c9bbf556c1cea7f0a5e6a35 2019-03-27 18:25:28.173   \n",
       "1  5c9bc0186c1cea7f0a5e6a3b  5c9bbf556c1cea7f0a5e6a36 2019-03-27 18:25:51.752   \n",
       "2  5c9bc02f6c1cea7f0a5e6a3d  5c9bbf556c1cea7f0a5e6a37 2019-03-27 18:27:27.937   \n",
       "3  5c9bc0906c1cea7f0a5e6a48  5c9bbf556c1cea7f0a5e6a38 2019-03-27 18:29:03.660   \n",
       "\n",
       "   events             insert_time                  pipeline  \\\n",
       "0       1 2019-03-27 18:24:03.281  5c9bbf556c1cea7f0a5e6a34   \n",
       "1       1 2019-03-27 18:25:28.300  5c9bbf556c1cea7f0a5e6a34   \n",
       "2      10 2019-03-27 18:25:51.849  5c9bbf556c1cea7f0a5e6a34   \n",
       "3       1 2019-03-27 18:27:28.032  5c9bbf556c1cea7f0a5e6a34   \n",
       "\n",
       "               start_time status  \n",
       "0 2019-03-27 18:24:03.280   done  \n",
       "1 2019-03-27 18:25:28.299   done  \n",
       "2 2019-03-27 18:25:51.848   done  \n",
       "3 2019-03-27 18:27:28.031   done  "
      ]
     },
     "execution_count": 14,
     "metadata": {},
     "output_type": "execute_result"
    }
   ],
   "source": [
    "explorer.get_dataruns()"
   ]
  },
  {
   "cell_type": "code",
   "execution_count": 15,
   "metadata": {},
   "outputs": [
    {
     "data": {
      "text/html": [
       "<div>\n",
       "<style scoped>\n",
       "    .dataframe tbody tr th:only-of-type {\n",
       "        vertical-align: middle;\n",
       "    }\n",
       "\n",
       "    .dataframe tbody tr th {\n",
       "        vertical-align: top;\n",
       "    }\n",
       "\n",
       "    .dataframe thead th {\n",
       "        text-align: right;\n",
       "    }\n",
       "</style>\n",
       "<table border=\"1\" class=\"dataframe\">\n",
       "  <thead>\n",
       "    <tr style=\"text-align: right;\">\n",
       "      <th></th>\n",
       "      <th>event_id</th>\n",
       "      <th>datarun</th>\n",
       "      <th>insert_time</th>\n",
       "      <th>score</th>\n",
       "      <th>start_time</th>\n",
       "      <th>stop_time</th>\n",
       "      <th>comments</th>\n",
       "    </tr>\n",
       "  </thead>\n",
       "  <tbody>\n",
       "    <tr>\n",
       "      <th>0</th>\n",
       "      <td>5c9bc0186c1cea7f0a5e6a3a</td>\n",
       "      <td>5c9bbfc36c1cea7f0a5e6a39</td>\n",
       "      <td>2019-03-27 18:25:28.121</td>\n",
       "      <td>0.074029</td>\n",
       "      <td>1398729600</td>\n",
       "      <td>1399356000</td>\n",
       "      <td>0</td>\n",
       "    </tr>\n",
       "    <tr>\n",
       "      <th>1</th>\n",
       "      <td>5c9bc02f6c1cea7f0a5e6a3c</td>\n",
       "      <td>5c9bc0186c1cea7f0a5e6a3b</td>\n",
       "      <td>2019-03-27 18:25:51.752</td>\n",
       "      <td>5.523098</td>\n",
       "      <td>1256990400</td>\n",
       "      <td>1257120000</td>\n",
       "      <td>0</td>\n",
       "    </tr>\n",
       "    <tr>\n",
       "      <th>2</th>\n",
       "      <td>5c9bc08f6c1cea7f0a5e6a3e</td>\n",
       "      <td>5c9bc02f6c1cea7f0a5e6a3d</td>\n",
       "      <td>2019-03-27 18:27:27.928</td>\n",
       "      <td>0.045721</td>\n",
       "      <td>1223661600</td>\n",
       "      <td>1223704800</td>\n",
       "      <td>0</td>\n",
       "    </tr>\n",
       "    <tr>\n",
       "      <th>3</th>\n",
       "      <td>5c9bc08f6c1cea7f0a5e6a3f</td>\n",
       "      <td>5c9bc02f6c1cea7f0a5e6a3d</td>\n",
       "      <td>2019-03-27 18:27:27.929</td>\n",
       "      <td>0.056340</td>\n",
       "      <td>1232280000</td>\n",
       "      <td>1232388000</td>\n",
       "      <td>0</td>\n",
       "    </tr>\n",
       "    <tr>\n",
       "      <th>4</th>\n",
       "      <td>5c9bc08f6c1cea7f0a5e6a40</td>\n",
       "      <td>5c9bc02f6c1cea7f0a5e6a3d</td>\n",
       "      <td>2019-03-27 18:27:27.930</td>\n",
       "      <td>0.060790</td>\n",
       "      <td>1277467200</td>\n",
       "      <td>1277618400</td>\n",
       "      <td>0</td>\n",
       "    </tr>\n",
       "    <tr>\n",
       "      <th>5</th>\n",
       "      <td>5c9bc08f6c1cea7f0a5e6a41</td>\n",
       "      <td>5c9bc02f6c1cea7f0a5e6a3d</td>\n",
       "      <td>2019-03-27 18:27:27.931</td>\n",
       "      <td>0.032236</td>\n",
       "      <td>1285200000</td>\n",
       "      <td>1285372800</td>\n",
       "      <td>0</td>\n",
       "    </tr>\n",
       "    <tr>\n",
       "      <th>6</th>\n",
       "      <td>5c9bc08f6c1cea7f0a5e6a42</td>\n",
       "      <td>5c9bc02f6c1cea7f0a5e6a3d</td>\n",
       "      <td>2019-03-27 18:27:27.932</td>\n",
       "      <td>0.016799</td>\n",
       "      <td>1285437600</td>\n",
       "      <td>1285437600</td>\n",
       "      <td>0</td>\n",
       "    </tr>\n",
       "    <tr>\n",
       "      <th>7</th>\n",
       "      <td>5c9bc08f6c1cea7f0a5e6a43</td>\n",
       "      <td>5c9bc02f6c1cea7f0a5e6a3d</td>\n",
       "      <td>2019-03-27 18:27:27.933</td>\n",
       "      <td>0.043102</td>\n",
       "      <td>1296928800</td>\n",
       "      <td>1297036800</td>\n",
       "      <td>0</td>\n",
       "    </tr>\n",
       "    <tr>\n",
       "      <th>8</th>\n",
       "      <td>5c9bc08f6c1cea7f0a5e6a44</td>\n",
       "      <td>5c9bc02f6c1cea7f0a5e6a3d</td>\n",
       "      <td>2019-03-27 18:27:27.934</td>\n",
       "      <td>0.001325</td>\n",
       "      <td>1344319200</td>\n",
       "      <td>1344319200</td>\n",
       "      <td>0</td>\n",
       "    </tr>\n",
       "    <tr>\n",
       "      <th>9</th>\n",
       "      <td>5c9bc08f6c1cea7f0a5e6a45</td>\n",
       "      <td>5c9bc02f6c1cea7f0a5e6a3d</td>\n",
       "      <td>2019-03-27 18:27:27.935</td>\n",
       "      <td>0.046676</td>\n",
       "      <td>1351728000</td>\n",
       "      <td>1351792800</td>\n",
       "      <td>0</td>\n",
       "    </tr>\n",
       "    <tr>\n",
       "      <th>10</th>\n",
       "      <td>5c9bc08f6c1cea7f0a5e6a46</td>\n",
       "      <td>5c9bc02f6c1cea7f0a5e6a3d</td>\n",
       "      <td>2019-03-27 18:27:27.936</td>\n",
       "      <td>0.011489</td>\n",
       "      <td>1387713600</td>\n",
       "      <td>1387735200</td>\n",
       "      <td>0</td>\n",
       "    </tr>\n",
       "    <tr>\n",
       "      <th>11</th>\n",
       "      <td>5c9bc08f6c1cea7f0a5e6a47</td>\n",
       "      <td>5c9bc02f6c1cea7f0a5e6a3d</td>\n",
       "      <td>2019-03-27 18:27:27.937</td>\n",
       "      <td>0.026807</td>\n",
       "      <td>1433484000</td>\n",
       "      <td>1433635200</td>\n",
       "      <td>0</td>\n",
       "    </tr>\n",
       "    <tr>\n",
       "      <th>12</th>\n",
       "      <td>5c9bc0ef6c1cea7f0a5e6a49</td>\n",
       "      <td>5c9bc0906c1cea7f0a5e6a48</td>\n",
       "      <td>2019-03-27 18:29:03.660</td>\n",
       "      <td>0.054283</td>\n",
       "      <td>1406095200</td>\n",
       "      <td>1406181600</td>\n",
       "      <td>0</td>\n",
       "    </tr>\n",
       "  </tbody>\n",
       "</table>\n",
       "</div>"
      ],
      "text/plain": [
       "                    event_id                   datarun  \\\n",
       "0   5c9bc0186c1cea7f0a5e6a3a  5c9bbfc36c1cea7f0a5e6a39   \n",
       "1   5c9bc02f6c1cea7f0a5e6a3c  5c9bc0186c1cea7f0a5e6a3b   \n",
       "2   5c9bc08f6c1cea7f0a5e6a3e  5c9bc02f6c1cea7f0a5e6a3d   \n",
       "3   5c9bc08f6c1cea7f0a5e6a3f  5c9bc02f6c1cea7f0a5e6a3d   \n",
       "4   5c9bc08f6c1cea7f0a5e6a40  5c9bc02f6c1cea7f0a5e6a3d   \n",
       "5   5c9bc08f6c1cea7f0a5e6a41  5c9bc02f6c1cea7f0a5e6a3d   \n",
       "6   5c9bc08f6c1cea7f0a5e6a42  5c9bc02f6c1cea7f0a5e6a3d   \n",
       "7   5c9bc08f6c1cea7f0a5e6a43  5c9bc02f6c1cea7f0a5e6a3d   \n",
       "8   5c9bc08f6c1cea7f0a5e6a44  5c9bc02f6c1cea7f0a5e6a3d   \n",
       "9   5c9bc08f6c1cea7f0a5e6a45  5c9bc02f6c1cea7f0a5e6a3d   \n",
       "10  5c9bc08f6c1cea7f0a5e6a46  5c9bc02f6c1cea7f0a5e6a3d   \n",
       "11  5c9bc08f6c1cea7f0a5e6a47  5c9bc02f6c1cea7f0a5e6a3d   \n",
       "12  5c9bc0ef6c1cea7f0a5e6a49  5c9bc0906c1cea7f0a5e6a48   \n",
       "\n",
       "               insert_time     score  start_time   stop_time  comments  \n",
       "0  2019-03-27 18:25:28.121  0.074029  1398729600  1399356000         0  \n",
       "1  2019-03-27 18:25:51.752  5.523098  1256990400  1257120000         0  \n",
       "2  2019-03-27 18:27:27.928  0.045721  1223661600  1223704800         0  \n",
       "3  2019-03-27 18:27:27.929  0.056340  1232280000  1232388000         0  \n",
       "4  2019-03-27 18:27:27.930  0.060790  1277467200  1277618400         0  \n",
       "5  2019-03-27 18:27:27.931  0.032236  1285200000  1285372800         0  \n",
       "6  2019-03-27 18:27:27.932  0.016799  1285437600  1285437600         0  \n",
       "7  2019-03-27 18:27:27.933  0.043102  1296928800  1297036800         0  \n",
       "8  2019-03-27 18:27:27.934  0.001325  1344319200  1344319200         0  \n",
       "9  2019-03-27 18:27:27.935  0.046676  1351728000  1351792800         0  \n",
       "10 2019-03-27 18:27:27.936  0.011489  1387713600  1387735200         0  \n",
       "11 2019-03-27 18:27:27.937  0.026807  1433484000  1433635200         0  \n",
       "12 2019-03-27 18:29:03.660  0.054283  1406095200  1406181600         0  "
      ]
     },
     "execution_count": 15,
     "metadata": {},
     "output_type": "execute_result"
    }
   ],
   "source": [
    "explorer.get_events()"
   ]
  }
 ],
 "metadata": {
  "kernelspec": {
   "display_name": "Python 3",
   "language": "python",
   "name": "python3"
  },
  "language_info": {
   "codemirror_mode": {
    "name": "ipython",
    "version": 3
   },
   "file_extension": ".py",
   "mimetype": "text/x-python",
   "name": "python",
   "nbconvert_exporter": "python",
   "pygments_lexer": "ipython3",
   "version": "3.6.7"
  }
 },
 "nbformat": 4,
 "nbformat_minor": 2
}
