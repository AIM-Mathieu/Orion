{
 "cells": [
  {
   "cell_type": "code",
   "execution_count": 1,
   "metadata": {},
   "outputs": [],
   "source": [
    "from orion.analysis import analyze\n",
    "from orion.explorer import OrionExplorer"
   ]
  },
  {
   "cell_type": "code",
   "execution_count": 2,
   "metadata": {},
   "outputs": [],
   "source": [
    "orex = OrionExplorer('orion')"
   ]
  },
  {
   "cell_type": "code",
   "execution_count": 3,
   "metadata": {},
   "outputs": [],
   "source": [
    "ds = orex.add_dataset('S-1', 'S-1', 'NASA')"
   ]
  },
  {
   "cell_type": "code",
   "execution_count": 4,
   "metadata": {},
   "outputs": [
    {
     "data": {
      "text/html": [
       "<div>\n",
       "<style scoped>\n",
       "    .dataframe tbody tr th:only-of-type {\n",
       "        vertical-align: middle;\n",
       "    }\n",
       "\n",
       "    .dataframe tbody tr th {\n",
       "        vertical-align: top;\n",
       "    }\n",
       "\n",
       "    .dataframe thead th {\n",
       "        text-align: right;\n",
       "    }\n",
       "</style>\n",
       "<table border=\"1\" class=\"dataframe\">\n",
       "  <thead>\n",
       "    <tr style=\"text-align: right;\">\n",
       "      <th></th>\n",
       "      <th>dataset</th>\n",
       "      <th>insert_time</th>\n",
       "      <th>location</th>\n",
       "      <th>name</th>\n",
       "      <th>satellite</th>\n",
       "      <th>signal</th>\n",
       "    </tr>\n",
       "  </thead>\n",
       "  <tbody>\n",
       "    <tr>\n",
       "      <th>0</th>\n",
       "      <td>5c7421d26c1cea2386914098</td>\n",
       "      <td>2019-02-25 17:11:46.519</td>\n",
       "      <td></td>\n",
       "      <td>S-1</td>\n",
       "      <td>NASA</td>\n",
       "      <td>S-1</td>\n",
       "    </tr>\n",
       "  </tbody>\n",
       "</table>\n",
       "</div>"
      ],
      "text/plain": [
       "                    dataset             insert_time location name satellite  \\\n",
       "0  5c7421d26c1cea2386914098 2019-02-25 17:11:46.519           S-1      NASA   \n",
       "\n",
       "  signal  \n",
       "0    S-1  "
      ]
     },
     "execution_count": 4,
     "metadata": {},
     "output_type": "execute_result"
    }
   ],
   "source": [
    "orex.get_datasets()"
   ]
  },
  {
   "cell_type": "code",
   "execution_count": 5,
   "metadata": {},
   "outputs": [
    {
     "data": {
      "text/plain": [
       "<Pipeline: Pipeline object>"
      ]
     },
     "execution_count": 5,
     "metadata": {},
     "output_type": "execute_result"
    }
   ],
   "source": [
    "orex.add_pipeline('dummy', '../orion/pipelines/dummy.json')"
   ]
  },
  {
   "cell_type": "code",
   "execution_count": 6,
   "metadata": {},
   "outputs": [
    {
     "data": {
      "text/html": [
       "<div>\n",
       "<style scoped>\n",
       "    .dataframe tbody tr th:only-of-type {\n",
       "        vertical-align: middle;\n",
       "    }\n",
       "\n",
       "    .dataframe tbody tr th {\n",
       "        vertical-align: top;\n",
       "    }\n",
       "\n",
       "    .dataframe thead th {\n",
       "        text-align: right;\n",
       "    }\n",
       "</style>\n",
       "<table border=\"1\" class=\"dataframe\">\n",
       "  <thead>\n",
       "    <tr style=\"text-align: right;\">\n",
       "      <th></th>\n",
       "      <th>pipeline</th>\n",
       "      <th>insert_time</th>\n",
       "      <th>mlpipeline</th>\n",
       "      <th>name</th>\n",
       "    </tr>\n",
       "  </thead>\n",
       "  <tbody>\n",
       "    <tr>\n",
       "      <th>0</th>\n",
       "      <td>5c7421d26c1cea2386914099</td>\n",
       "      <td>2019-02-25 17:11:46.925</td>\n",
       "      <td>{'primitives': ['orion.primitives.estimators.M...</td>\n",
       "      <td>dummy</td>\n",
       "    </tr>\n",
       "  </tbody>\n",
       "</table>\n",
       "</div>"
      ],
      "text/plain": [
       "                   pipeline             insert_time  \\\n",
       "0  5c7421d26c1cea2386914099 2019-02-25 17:11:46.925   \n",
       "\n",
       "                                          mlpipeline   name  \n",
       "0  {'primitives': ['orion.primitives.estimators.M...  dummy  "
      ]
     },
     "execution_count": 6,
     "metadata": {},
     "output_type": "execute_result"
    }
   ],
   "source": [
    "orex.get_pipelines()"
   ]
  },
  {
   "cell_type": "code",
   "execution_count": 7,
   "metadata": {},
   "outputs": [],
   "source": [
    "pipeline = orex.get_pipeline('dummy')"
   ]
  },
  {
   "cell_type": "code",
   "execution_count": 8,
   "metadata": {},
   "outputs": [
    {
     "data": {
      "text/plain": [
       "<Pipeline: Pipeline object>"
      ]
     },
     "execution_count": 8,
     "metadata": {},
     "output_type": "execute_result"
    }
   ],
   "source": [
    "pipeline"
   ]
  },
  {
   "cell_type": "code",
   "execution_count": 9,
   "metadata": {},
   "outputs": [
    {
     "name": "stderr",
     "output_type": "stream",
     "text": [
      "Using TensorFlow backend.\n"
     ]
    }
   ],
   "source": [
    "datarun = analyze(orex, 'S-1', 'dummy')"
   ]
  },
  {
   "cell_type": "code",
   "execution_count": 10,
   "metadata": {},
   "outputs": [
    {
     "data": {
      "text/html": [
       "<div>\n",
       "<style scoped>\n",
       "    .dataframe tbody tr th:only-of-type {\n",
       "        vertical-align: middle;\n",
       "    }\n",
       "\n",
       "    .dataframe tbody tr th {\n",
       "        vertical-align: top;\n",
       "    }\n",
       "\n",
       "    .dataframe thead th {\n",
       "        text-align: right;\n",
       "    }\n",
       "</style>\n",
       "<table border=\"1\" class=\"dataframe\">\n",
       "  <thead>\n",
       "    <tr style=\"text-align: right;\">\n",
       "      <th></th>\n",
       "      <th>datarun</th>\n",
       "      <th>dataset</th>\n",
       "      <th>end_time</th>\n",
       "      <th>events</th>\n",
       "      <th>insert_time</th>\n",
       "      <th>pipeline</th>\n",
       "      <th>start_time</th>\n",
       "    </tr>\n",
       "  </thead>\n",
       "  <tbody>\n",
       "    <tr>\n",
       "      <th>0</th>\n",
       "      <td>5c7421d56c1cea238691409a</td>\n",
       "      <td>5c7421d26c1cea2386914098</td>\n",
       "      <td>2019-02-25 17:11:49.091</td>\n",
       "      <td>926</td>\n",
       "      <td>2019-02-25 17:11:49.092</td>\n",
       "      <td>5c7421d26c1cea2386914099</td>\n",
       "      <td>2019-02-25 17:11:49.083</td>\n",
       "    </tr>\n",
       "    <tr>\n",
       "      <th>1</th>\n",
       "      <td>5c743a516c1cea6ef2508bf4</td>\n",
       "      <td>5c7421d26c1cea2386914098</td>\n",
       "      <td>2019-02-25 18:56:17.002</td>\n",
       "      <td>926</td>\n",
       "      <td>2019-02-25 18:56:17.003</td>\n",
       "      <td>5c7421d26c1cea2386914099</td>\n",
       "      <td>2019-02-25 18:56:16.993</td>\n",
       "    </tr>\n",
       "    <tr>\n",
       "      <th>2</th>\n",
       "      <td>5c743a876c1cea701fbc74e0</td>\n",
       "      <td>5c7421d26c1cea2386914098</td>\n",
       "      <td>2019-02-25 18:57:11.437</td>\n",
       "      <td>926</td>\n",
       "      <td>2019-02-25 18:57:11.438</td>\n",
       "      <td>5c7421d26c1cea2386914099</td>\n",
       "      <td>2019-02-25 18:57:11.428</td>\n",
       "    </tr>\n",
       "    <tr>\n",
       "      <th>3</th>\n",
       "      <td>5c743cc46c1cea7877b93c81</td>\n",
       "      <td>5c7421d26c1cea2386914098</td>\n",
       "      <td>2019-02-25 19:06:44.100</td>\n",
       "      <td>926</td>\n",
       "      <td>2019-02-25 19:06:44.101</td>\n",
       "      <td>5c7421d26c1cea2386914099</td>\n",
       "      <td>2019-02-25 19:06:44.091</td>\n",
       "    </tr>\n",
       "  </tbody>\n",
       "</table>\n",
       "</div>"
      ],
      "text/plain": [
       "                    datarun                   dataset                end_time  \\\n",
       "0  5c7421d56c1cea238691409a  5c7421d26c1cea2386914098 2019-02-25 17:11:49.091   \n",
       "1  5c743a516c1cea6ef2508bf4  5c7421d26c1cea2386914098 2019-02-25 18:56:17.002   \n",
       "2  5c743a876c1cea701fbc74e0  5c7421d26c1cea2386914098 2019-02-25 18:57:11.437   \n",
       "3  5c743cc46c1cea7877b93c81  5c7421d26c1cea2386914098 2019-02-25 19:06:44.100   \n",
       "\n",
       "   events             insert_time                  pipeline  \\\n",
       "0     926 2019-02-25 17:11:49.092  5c7421d26c1cea2386914099   \n",
       "1     926 2019-02-25 18:56:17.003  5c7421d26c1cea2386914099   \n",
       "2     926 2019-02-25 18:57:11.438  5c7421d26c1cea2386914099   \n",
       "3     926 2019-02-25 19:06:44.101  5c7421d26c1cea2386914099   \n",
       "\n",
       "               start_time  \n",
       "0 2019-02-25 17:11:49.083  \n",
       "1 2019-02-25 18:56:16.993  \n",
       "2 2019-02-25 18:57:11.428  \n",
       "3 2019-02-25 19:06:44.091  "
      ]
     },
     "execution_count": 10,
     "metadata": {},
     "output_type": "execute_result"
    }
   ],
   "source": [
    "orex.get_dataruns()"
   ]
  },
  {
   "cell_type": "code",
   "execution_count": 11,
   "metadata": {},
   "outputs": [
    {
     "data": {
      "text/html": [
       "<div>\n",
       "<style scoped>\n",
       "    .dataframe tbody tr th:only-of-type {\n",
       "        vertical-align: middle;\n",
       "    }\n",
       "\n",
       "    .dataframe tbody tr th {\n",
       "        vertical-align: top;\n",
       "    }\n",
       "\n",
       "    .dataframe thead th {\n",
       "        text-align: right;\n",
       "    }\n",
       "</style>\n",
       "<table border=\"1\" class=\"dataframe\">\n",
       "  <thead>\n",
       "    <tr style=\"text-align: right;\">\n",
       "      <th></th>\n",
       "      <th>event</th>\n",
       "      <th>datarun</th>\n",
       "      <th>insert_time</th>\n",
       "      <th>score</th>\n",
       "      <th>start_time</th>\n",
       "      <th>stop_time</th>\n",
       "      <th>comments</th>\n",
       "    </tr>\n",
       "  </thead>\n",
       "  <tbody>\n",
       "    <tr>\n",
       "      <th>0</th>\n",
       "      <td>5c743cc46c1cea7877b93c82</td>\n",
       "      <td>5c743cc46c1cea7877b93c81</td>\n",
       "      <td>2019-02-25 19:06:44.103</td>\n",
       "      <td>0.572644</td>\n",
       "      <td>1222970400</td>\n",
       "      <td>1222992000</td>\n",
       "      <td>0</td>\n",
       "    </tr>\n",
       "    <tr>\n",
       "      <th>1</th>\n",
       "      <td>5c743cc46c1cea7877b93c83</td>\n",
       "      <td>5c743cc46c1cea7877b93c81</td>\n",
       "      <td>2019-02-25 19:06:44.105</td>\n",
       "      <td>0.572644</td>\n",
       "      <td>1223013600</td>\n",
       "      <td>1223035200</td>\n",
       "      <td>0</td>\n",
       "    </tr>\n",
       "    <tr>\n",
       "      <th>2</th>\n",
       "      <td>5c743cc46c1cea7877b93c84</td>\n",
       "      <td>5c743cc46c1cea7877b93c81</td>\n",
       "      <td>2019-02-25 19:06:44.107</td>\n",
       "      <td>0.572644</td>\n",
       "      <td>1223510400</td>\n",
       "      <td>1223532000</td>\n",
       "      <td>0</td>\n",
       "    </tr>\n",
       "    <tr>\n",
       "      <th>3</th>\n",
       "      <td>5c743cc46c1cea7877b93c85</td>\n",
       "      <td>5c743cc46c1cea7877b93c81</td>\n",
       "      <td>2019-02-25 19:06:44.109</td>\n",
       "      <td>0.572644</td>\n",
       "      <td>1223575200</td>\n",
       "      <td>1223596800</td>\n",
       "      <td>0</td>\n",
       "    </tr>\n",
       "    <tr>\n",
       "      <th>4</th>\n",
       "      <td>5c743cc46c1cea7877b93c86</td>\n",
       "      <td>5c743cc46c1cea7877b93c81</td>\n",
       "      <td>2019-02-25 19:06:44.111</td>\n",
       "      <td>0.572644</td>\n",
       "      <td>1223618400</td>\n",
       "      <td>1223640000</td>\n",
       "      <td>0</td>\n",
       "    </tr>\n",
       "  </tbody>\n",
       "</table>\n",
       "</div>"
      ],
      "text/plain": [
       "                      event                   datarun             insert_time  \\\n",
       "0  5c743cc46c1cea7877b93c82  5c743cc46c1cea7877b93c81 2019-02-25 19:06:44.103   \n",
       "1  5c743cc46c1cea7877b93c83  5c743cc46c1cea7877b93c81 2019-02-25 19:06:44.105   \n",
       "2  5c743cc46c1cea7877b93c84  5c743cc46c1cea7877b93c81 2019-02-25 19:06:44.107   \n",
       "3  5c743cc46c1cea7877b93c85  5c743cc46c1cea7877b93c81 2019-02-25 19:06:44.109   \n",
       "4  5c743cc46c1cea7877b93c86  5c743cc46c1cea7877b93c81 2019-02-25 19:06:44.111   \n",
       "\n",
       "      score  start_time   stop_time  comments  \n",
       "0  0.572644  1222970400  1222992000         0  \n",
       "1  0.572644  1223013600  1223035200         0  \n",
       "2  0.572644  1223510400  1223532000         0  \n",
       "3  0.572644  1223575200  1223596800         0  \n",
       "4  0.572644  1223618400  1223640000         0  "
      ]
     },
     "execution_count": 11,
     "metadata": {},
     "output_type": "execute_result"
    }
   ],
   "source": [
    "events = orex.get_events(datarun)\n",
    "events.head()"
   ]
  },
  {
   "cell_type": "code",
   "execution_count": 12,
   "metadata": {},
   "outputs": [],
   "source": [
    "orex.add_comment(events.event.iloc[0], 'This is a comment example.')"
   ]
  },
  {
   "cell_type": "code",
   "execution_count": 17,
   "metadata": {},
   "outputs": [],
   "source": [
    "orex.add_comment(events.event.iloc[0], 'This is another comment.')"
   ]
  },
  {
   "cell_type": "code",
   "execution_count": 18,
   "metadata": {},
   "outputs": [
    {
     "data": {
      "text/html": [
       "<div>\n",
       "<style scoped>\n",
       "    .dataframe tbody tr th:only-of-type {\n",
       "        vertical-align: middle;\n",
       "    }\n",
       "\n",
       "    .dataframe tbody tr th {\n",
       "        vertical-align: top;\n",
       "    }\n",
       "\n",
       "    .dataframe thead th {\n",
       "        text-align: right;\n",
       "    }\n",
       "</style>\n",
       "<table border=\"1\" class=\"dataframe\">\n",
       "  <thead>\n",
       "    <tr style=\"text-align: right;\">\n",
       "      <th></th>\n",
       "      <th>event</th>\n",
       "      <th>datarun</th>\n",
       "      <th>insert_time</th>\n",
       "      <th>score</th>\n",
       "      <th>start_time</th>\n",
       "      <th>stop_time</th>\n",
       "      <th>comments</th>\n",
       "    </tr>\n",
       "  </thead>\n",
       "  <tbody>\n",
       "    <tr>\n",
       "      <th>0</th>\n",
       "      <td>5c743cc46c1cea7877b93c82</td>\n",
       "      <td>5c743cc46c1cea7877b93c81</td>\n",
       "      <td>2019-02-25 19:06:44.103</td>\n",
       "      <td>0.572644</td>\n",
       "      <td>1222970400</td>\n",
       "      <td>1222992000</td>\n",
       "      <td>2</td>\n",
       "    </tr>\n",
       "    <tr>\n",
       "      <th>1</th>\n",
       "      <td>5c743cc46c1cea7877b93c83</td>\n",
       "      <td>5c743cc46c1cea7877b93c81</td>\n",
       "      <td>2019-02-25 19:06:44.105</td>\n",
       "      <td>0.572644</td>\n",
       "      <td>1223013600</td>\n",
       "      <td>1223035200</td>\n",
       "      <td>0</td>\n",
       "    </tr>\n",
       "    <tr>\n",
       "      <th>2</th>\n",
       "      <td>5c743cc46c1cea7877b93c84</td>\n",
       "      <td>5c743cc46c1cea7877b93c81</td>\n",
       "      <td>2019-02-25 19:06:44.107</td>\n",
       "      <td>0.572644</td>\n",
       "      <td>1223510400</td>\n",
       "      <td>1223532000</td>\n",
       "      <td>0</td>\n",
       "    </tr>\n",
       "    <tr>\n",
       "      <th>3</th>\n",
       "      <td>5c743cc46c1cea7877b93c85</td>\n",
       "      <td>5c743cc46c1cea7877b93c81</td>\n",
       "      <td>2019-02-25 19:06:44.109</td>\n",
       "      <td>0.572644</td>\n",
       "      <td>1223575200</td>\n",
       "      <td>1223596800</td>\n",
       "      <td>0</td>\n",
       "    </tr>\n",
       "    <tr>\n",
       "      <th>4</th>\n",
       "      <td>5c743cc46c1cea7877b93c86</td>\n",
       "      <td>5c743cc46c1cea7877b93c81</td>\n",
       "      <td>2019-02-25 19:06:44.111</td>\n",
       "      <td>0.572644</td>\n",
       "      <td>1223618400</td>\n",
       "      <td>1223640000</td>\n",
       "      <td>0</td>\n",
       "    </tr>\n",
       "  </tbody>\n",
       "</table>\n",
       "</div>"
      ],
      "text/plain": [
       "                      event                   datarun             insert_time  \\\n",
       "0  5c743cc46c1cea7877b93c82  5c743cc46c1cea7877b93c81 2019-02-25 19:06:44.103   \n",
       "1  5c743cc46c1cea7877b93c83  5c743cc46c1cea7877b93c81 2019-02-25 19:06:44.105   \n",
       "2  5c743cc46c1cea7877b93c84  5c743cc46c1cea7877b93c81 2019-02-25 19:06:44.107   \n",
       "3  5c743cc46c1cea7877b93c85  5c743cc46c1cea7877b93c81 2019-02-25 19:06:44.109   \n",
       "4  5c743cc46c1cea7877b93c86  5c743cc46c1cea7877b93c81 2019-02-25 19:06:44.111   \n",
       "\n",
       "      score  start_time   stop_time  comments  \n",
       "0  0.572644  1222970400  1222992000         2  \n",
       "1  0.572644  1223013600  1223035200         0  \n",
       "2  0.572644  1223510400  1223532000         0  \n",
       "3  0.572644  1223575200  1223596800         0  \n",
       "4  0.572644  1223618400  1223640000         0  "
      ]
     },
     "execution_count": 18,
     "metadata": {},
     "output_type": "execute_result"
    }
   ],
   "source": [
    "orex.get_events(datarun).head()"
   ]
  },
  {
   "cell_type": "code",
   "execution_count": 19,
   "metadata": {},
   "outputs": [
    {
     "data": {
      "text/html": [
       "<div>\n",
       "<style scoped>\n",
       "    .dataframe tbody tr th:only-of-type {\n",
       "        vertical-align: middle;\n",
       "    }\n",
       "\n",
       "    .dataframe tbody tr th {\n",
       "        vertical-align: top;\n",
       "    }\n",
       "\n",
       "    .dataframe thead th {\n",
       "        text-align: right;\n",
       "    }\n",
       "</style>\n",
       "<table border=\"1\" class=\"dataframe\">\n",
       "  <thead>\n",
       "    <tr style=\"text-align: right;\">\n",
       "      <th></th>\n",
       "      <th>event</th>\n",
       "      <th>datarun</th>\n",
       "      <th>insert_time</th>\n",
       "      <th>score</th>\n",
       "      <th>start_time</th>\n",
       "      <th>stop_time</th>\n",
       "      <th>text</th>\n",
       "    </tr>\n",
       "  </thead>\n",
       "  <tbody>\n",
       "    <tr>\n",
       "      <th>0</th>\n",
       "      <td>5c743cc46c1cea7877b93c82</td>\n",
       "      <td>5c743cc46c1cea7877b93c81</td>\n",
       "      <td>2019-02-25 19:06:44.103</td>\n",
       "      <td>0.572644</td>\n",
       "      <td>1222970400</td>\n",
       "      <td>1222992000</td>\n",
       "      <td>This is a comment example.</td>\n",
       "    </tr>\n",
       "    <tr>\n",
       "      <th>1</th>\n",
       "      <td>5c743cc46c1cea7877b93c82</td>\n",
       "      <td>5c743cc46c1cea7877b93c81</td>\n",
       "      <td>2019-02-25 19:06:44.103</td>\n",
       "      <td>0.572644</td>\n",
       "      <td>1222970400</td>\n",
       "      <td>1222992000</td>\n",
       "      <td>This is another comment.</td>\n",
       "    </tr>\n",
       "  </tbody>\n",
       "</table>\n",
       "</div>"
      ],
      "text/plain": [
       "                      event                   datarun             insert_time  \\\n",
       "0  5c743cc46c1cea7877b93c82  5c743cc46c1cea7877b93c81 2019-02-25 19:06:44.103   \n",
       "1  5c743cc46c1cea7877b93c82  5c743cc46c1cea7877b93c81 2019-02-25 19:06:44.103   \n",
       "\n",
       "      score  start_time   stop_time                        text  \n",
       "0  0.572644  1222970400  1222992000  This is a comment example.  \n",
       "1  0.572644  1222970400  1222992000    This is another comment.  "
      ]
     },
     "execution_count": 19,
     "metadata": {},
     "output_type": "execute_result"
    }
   ],
   "source": [
    "orex.get_comments(datarun)"
   ]
  }
 ],
 "metadata": {
  "kernelspec": {
   "display_name": "Python 3",
   "language": "python",
   "name": "python3"
  },
  "language_info": {
   "codemirror_mode": {
    "name": "ipython",
    "version": 3
   },
   "file_extension": ".py",
   "mimetype": "text/x-python",
   "name": "python",
   "nbconvert_exporter": "python",
   "pygments_lexer": "ipython3",
   "version": "3.6.7"
  }
 },
 "nbformat": 4,
 "nbformat_minor": 2
}
