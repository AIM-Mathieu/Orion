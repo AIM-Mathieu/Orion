{
 "cells": [
  {
   "cell_type": "code",
   "execution_count": 1,
   "metadata": {},
   "outputs": [],
   "source": [
    "from orion.analysis import analyze\n",
    "from orion.explorer import OrionExplorer"
   ]
  },
  {
   "cell_type": "code",
   "execution_count": 2,
   "metadata": {},
   "outputs": [],
   "source": [
    "orex = OrionExplorer('orion')"
   ]
  },
  {
   "cell_type": "code",
   "execution_count": 3,
   "metadata": {},
   "outputs": [],
   "source": [
    "orex.drop_database()"
   ]
  },
  {
   "cell_type": "code",
   "execution_count": 4,
   "metadata": {},
   "outputs": [],
   "source": [
    "ds = orex.add_dataset('S-1', 'S-1', None)"
   ]
  },
  {
   "cell_type": "code",
   "execution_count": 5,
   "metadata": {},
   "outputs": [
    {
     "data": {
      "text/html": [
       "<div>\n",
       "<style scoped>\n",
       "    .dataframe tbody tr th:only-of-type {\n",
       "        vertical-align: middle;\n",
       "    }\n",
       "\n",
       "    .dataframe tbody tr th {\n",
       "        vertical-align: top;\n",
       "    }\n",
       "\n",
       "    .dataframe thead th {\n",
       "        text-align: right;\n",
       "    }\n",
       "</style>\n",
       "<table border=\"1\" class=\"dataframe\">\n",
       "  <thead>\n",
       "    <tr style=\"text-align: right;\">\n",
       "      <th></th>\n",
       "      <th>dataset_id</th>\n",
       "      <th>insert_time</th>\n",
       "      <th>name</th>\n",
       "      <th>signal</th>\n",
       "      <th>timestamp_column</th>\n",
       "      <th>value_column</th>\n",
       "    </tr>\n",
       "  </thead>\n",
       "  <tbody>\n",
       "    <tr>\n",
       "      <th>0</th>\n",
       "      <td>5c7465646c1cea1665749551</td>\n",
       "      <td>2019-02-25 22:00:04.292</td>\n",
       "      <td>S-1</td>\n",
       "      <td>S-1</td>\n",
       "      <td>0</td>\n",
       "      <td>1</td>\n",
       "    </tr>\n",
       "  </tbody>\n",
       "</table>\n",
       "</div>"
      ],
      "text/plain": [
       "                 dataset_id             insert_time name signal  \\\n",
       "0  5c7465646c1cea1665749551 2019-02-25 22:00:04.292  S-1    S-1   \n",
       "\n",
       "   timestamp_column  value_column  \n",
       "0                 0             1  "
      ]
     },
     "execution_count": 5,
     "metadata": {},
     "output_type": "execute_result"
    }
   ],
   "source": [
    "orex.get_datasets()"
   ]
  },
  {
   "cell_type": "code",
   "execution_count": 6,
   "metadata": {},
   "outputs": [
    {
     "data": {
      "text/plain": [
       "<Pipeline: Pipeline object>"
      ]
     },
     "execution_count": 6,
     "metadata": {},
     "output_type": "execute_result"
    }
   ],
   "source": [
    "orex.add_pipeline('dummy', '../orion/pipelines/dummy.json')"
   ]
  },
  {
   "cell_type": "code",
   "execution_count": 7,
   "metadata": {},
   "outputs": [
    {
     "data": {
      "text/html": [
       "<div>\n",
       "<style scoped>\n",
       "    .dataframe tbody tr th:only-of-type {\n",
       "        vertical-align: middle;\n",
       "    }\n",
       "\n",
       "    .dataframe tbody tr th {\n",
       "        vertical-align: top;\n",
       "    }\n",
       "\n",
       "    .dataframe thead th {\n",
       "        text-align: right;\n",
       "    }\n",
       "</style>\n",
       "<table border=\"1\" class=\"dataframe\">\n",
       "  <thead>\n",
       "    <tr style=\"text-align: right;\">\n",
       "      <th></th>\n",
       "      <th>pipeline_id</th>\n",
       "      <th>insert_time</th>\n",
       "      <th>mlpipeline</th>\n",
       "      <th>name</th>\n",
       "    </tr>\n",
       "  </thead>\n",
       "  <tbody>\n",
       "    <tr>\n",
       "      <th>0</th>\n",
       "      <td>5c7465656c1cea1665749552</td>\n",
       "      <td>2019-02-25 22:00:05.776</td>\n",
       "      <td>{'primitives': ['orion.primitives.estimators.M...</td>\n",
       "      <td>dummy</td>\n",
       "    </tr>\n",
       "  </tbody>\n",
       "</table>\n",
       "</div>"
      ],
      "text/plain": [
       "                pipeline_id             insert_time  \\\n",
       "0  5c7465656c1cea1665749552 2019-02-25 22:00:05.776   \n",
       "\n",
       "                                          mlpipeline   name  \n",
       "0  {'primitives': ['orion.primitives.estimators.M...  dummy  "
      ]
     },
     "execution_count": 7,
     "metadata": {},
     "output_type": "execute_result"
    }
   ],
   "source": [
    "orex.get_pipelines()"
   ]
  },
  {
   "cell_type": "code",
   "execution_count": 8,
   "metadata": {},
   "outputs": [],
   "source": [
    "pipeline = orex.get_pipeline('dummy')"
   ]
  },
  {
   "cell_type": "code",
   "execution_count": 9,
   "metadata": {},
   "outputs": [
    {
     "data": {
      "text/plain": [
       "<Pipeline: Pipeline object>"
      ]
     },
     "execution_count": 9,
     "metadata": {},
     "output_type": "execute_result"
    }
   ],
   "source": [
    "pipeline"
   ]
  },
  {
   "cell_type": "code",
   "execution_count": 10,
   "metadata": {},
   "outputs": [
    {
     "name": "stderr",
     "output_type": "stream",
     "text": [
      "Using TensorFlow backend.\n"
     ]
    }
   ],
   "source": [
    "datarun = analyze(orex, 'S-1', 'dummy')"
   ]
  },
  {
   "cell_type": "code",
   "execution_count": 11,
   "metadata": {},
   "outputs": [
    {
     "data": {
      "text/html": [
       "<div>\n",
       "<style scoped>\n",
       "    .dataframe tbody tr th:only-of-type {\n",
       "        vertical-align: middle;\n",
       "    }\n",
       "\n",
       "    .dataframe tbody tr th {\n",
       "        vertical-align: top;\n",
       "    }\n",
       "\n",
       "    .dataframe thead th {\n",
       "        text-align: right;\n",
       "    }\n",
       "</style>\n",
       "<table border=\"1\" class=\"dataframe\">\n",
       "  <thead>\n",
       "    <tr style=\"text-align: right;\">\n",
       "      <th></th>\n",
       "      <th>datarun_id</th>\n",
       "      <th>dataset</th>\n",
       "      <th>end_time</th>\n",
       "      <th>events</th>\n",
       "      <th>insert_time</th>\n",
       "      <th>pipeline</th>\n",
       "      <th>start_time</th>\n",
       "    </tr>\n",
       "  </thead>\n",
       "  <tbody>\n",
       "    <tr>\n",
       "      <th>0</th>\n",
       "      <td>5c7465696c1cea1665749553</td>\n",
       "      <td>5c7465646c1cea1665749551</td>\n",
       "      <td>2019-02-25 22:00:09.093</td>\n",
       "      <td>926</td>\n",
       "      <td>2019-02-25 22:00:09.094</td>\n",
       "      <td>5c7465656c1cea1665749552</td>\n",
       "      <td>2019-02-25 22:00:09.084</td>\n",
       "    </tr>\n",
       "  </tbody>\n",
       "</table>\n",
       "</div>"
      ],
      "text/plain": [
       "                 datarun_id                   dataset                end_time  \\\n",
       "0  5c7465696c1cea1665749553  5c7465646c1cea1665749551 2019-02-25 22:00:09.093   \n",
       "\n",
       "   events             insert_time                  pipeline  \\\n",
       "0     926 2019-02-25 22:00:09.094  5c7465656c1cea1665749552   \n",
       "\n",
       "               start_time  \n",
       "0 2019-02-25 22:00:09.084  "
      ]
     },
     "execution_count": 11,
     "metadata": {},
     "output_type": "execute_result"
    }
   ],
   "source": [
    "orex.get_dataruns()"
   ]
  },
  {
   "cell_type": "code",
   "execution_count": 12,
   "metadata": {},
   "outputs": [
    {
     "data": {
      "text/html": [
       "<div>\n",
       "<style scoped>\n",
       "    .dataframe tbody tr th:only-of-type {\n",
       "        vertical-align: middle;\n",
       "    }\n",
       "\n",
       "    .dataframe tbody tr th {\n",
       "        vertical-align: top;\n",
       "    }\n",
       "\n",
       "    .dataframe thead th {\n",
       "        text-align: right;\n",
       "    }\n",
       "</style>\n",
       "<table border=\"1\" class=\"dataframe\">\n",
       "  <thead>\n",
       "    <tr style=\"text-align: right;\">\n",
       "      <th></th>\n",
       "      <th>event_id</th>\n",
       "      <th>datarun</th>\n",
       "      <th>insert_time</th>\n",
       "      <th>score</th>\n",
       "      <th>start_time</th>\n",
       "      <th>stop_time</th>\n",
       "      <th>comments</th>\n",
       "    </tr>\n",
       "  </thead>\n",
       "  <tbody>\n",
       "    <tr>\n",
       "      <th>0</th>\n",
       "      <td>5c7465696c1cea1665749554</td>\n",
       "      <td>5c7465696c1cea1665749553</td>\n",
       "      <td>2019-02-25 22:00:09.150</td>\n",
       "      <td>0.572644</td>\n",
       "      <td>1222970400</td>\n",
       "      <td>1222992000</td>\n",
       "      <td>0</td>\n",
       "    </tr>\n",
       "    <tr>\n",
       "      <th>1</th>\n",
       "      <td>5c7465696c1cea1665749555</td>\n",
       "      <td>5c7465696c1cea1665749553</td>\n",
       "      <td>2019-02-25 22:00:09.204</td>\n",
       "      <td>0.572644</td>\n",
       "      <td>1223013600</td>\n",
       "      <td>1223035200</td>\n",
       "      <td>0</td>\n",
       "    </tr>\n",
       "    <tr>\n",
       "      <th>2</th>\n",
       "      <td>5c7465696c1cea1665749556</td>\n",
       "      <td>5c7465696c1cea1665749553</td>\n",
       "      <td>2019-02-25 22:00:09.208</td>\n",
       "      <td>0.572644</td>\n",
       "      <td>1223510400</td>\n",
       "      <td>1223532000</td>\n",
       "      <td>0</td>\n",
       "    </tr>\n",
       "    <tr>\n",
       "      <th>3</th>\n",
       "      <td>5c7465696c1cea1665749557</td>\n",
       "      <td>5c7465696c1cea1665749553</td>\n",
       "      <td>2019-02-25 22:00:09.213</td>\n",
       "      <td>0.572644</td>\n",
       "      <td>1223575200</td>\n",
       "      <td>1223596800</td>\n",
       "      <td>0</td>\n",
       "    </tr>\n",
       "    <tr>\n",
       "      <th>4</th>\n",
       "      <td>5c7465696c1cea1665749558</td>\n",
       "      <td>5c7465696c1cea1665749553</td>\n",
       "      <td>2019-02-25 22:00:09.218</td>\n",
       "      <td>0.572644</td>\n",
       "      <td>1223618400</td>\n",
       "      <td>1223640000</td>\n",
       "      <td>0</td>\n",
       "    </tr>\n",
       "  </tbody>\n",
       "</table>\n",
       "</div>"
      ],
      "text/plain": [
       "                   event_id                   datarun             insert_time  \\\n",
       "0  5c7465696c1cea1665749554  5c7465696c1cea1665749553 2019-02-25 22:00:09.150   \n",
       "1  5c7465696c1cea1665749555  5c7465696c1cea1665749553 2019-02-25 22:00:09.204   \n",
       "2  5c7465696c1cea1665749556  5c7465696c1cea1665749553 2019-02-25 22:00:09.208   \n",
       "3  5c7465696c1cea1665749557  5c7465696c1cea1665749553 2019-02-25 22:00:09.213   \n",
       "4  5c7465696c1cea1665749558  5c7465696c1cea1665749553 2019-02-25 22:00:09.218   \n",
       "\n",
       "      score  start_time   stop_time  comments  \n",
       "0  0.572644  1222970400  1222992000         0  \n",
       "1  0.572644  1223013600  1223035200         0  \n",
       "2  0.572644  1223510400  1223532000         0  \n",
       "3  0.572644  1223575200  1223596800         0  \n",
       "4  0.572644  1223618400  1223640000         0  "
      ]
     },
     "execution_count": 12,
     "metadata": {},
     "output_type": "execute_result"
    }
   ],
   "source": [
    "events = orex.get_events(datarun)\n",
    "events.head()"
   ]
  },
  {
   "cell_type": "code",
   "execution_count": 13,
   "metadata": {},
   "outputs": [],
   "source": [
    "orex.add_comment(events.event_id.iloc[0], 'This is a comment example.')"
   ]
  },
  {
   "cell_type": "code",
   "execution_count": 14,
   "metadata": {},
   "outputs": [],
   "source": [
    "orex.add_comment(events.event_id.iloc[0], 'This is another comment.')"
   ]
  },
  {
   "cell_type": "code",
   "execution_count": 15,
   "metadata": {},
   "outputs": [
    {
     "data": {
      "text/html": [
       "<div>\n",
       "<style scoped>\n",
       "    .dataframe tbody tr th:only-of-type {\n",
       "        vertical-align: middle;\n",
       "    }\n",
       "\n",
       "    .dataframe tbody tr th {\n",
       "        vertical-align: top;\n",
       "    }\n",
       "\n",
       "    .dataframe thead th {\n",
       "        text-align: right;\n",
       "    }\n",
       "</style>\n",
       "<table border=\"1\" class=\"dataframe\">\n",
       "  <thead>\n",
       "    <tr style=\"text-align: right;\">\n",
       "      <th></th>\n",
       "      <th>event_id</th>\n",
       "      <th>datarun</th>\n",
       "      <th>insert_time</th>\n",
       "      <th>score</th>\n",
       "      <th>start_time</th>\n",
       "      <th>stop_time</th>\n",
       "      <th>comments</th>\n",
       "    </tr>\n",
       "  </thead>\n",
       "  <tbody>\n",
       "    <tr>\n",
       "      <th>0</th>\n",
       "      <td>5c7465696c1cea1665749554</td>\n",
       "      <td>5c7465696c1cea1665749553</td>\n",
       "      <td>2019-02-25 22:00:09.150</td>\n",
       "      <td>0.572644</td>\n",
       "      <td>1222970400</td>\n",
       "      <td>1222992000</td>\n",
       "      <td>2</td>\n",
       "    </tr>\n",
       "    <tr>\n",
       "      <th>1</th>\n",
       "      <td>5c7465696c1cea1665749555</td>\n",
       "      <td>5c7465696c1cea1665749553</td>\n",
       "      <td>2019-02-25 22:00:09.204</td>\n",
       "      <td>0.572644</td>\n",
       "      <td>1223013600</td>\n",
       "      <td>1223035200</td>\n",
       "      <td>0</td>\n",
       "    </tr>\n",
       "    <tr>\n",
       "      <th>2</th>\n",
       "      <td>5c7465696c1cea1665749556</td>\n",
       "      <td>5c7465696c1cea1665749553</td>\n",
       "      <td>2019-02-25 22:00:09.208</td>\n",
       "      <td>0.572644</td>\n",
       "      <td>1223510400</td>\n",
       "      <td>1223532000</td>\n",
       "      <td>0</td>\n",
       "    </tr>\n",
       "    <tr>\n",
       "      <th>3</th>\n",
       "      <td>5c7465696c1cea1665749557</td>\n",
       "      <td>5c7465696c1cea1665749553</td>\n",
       "      <td>2019-02-25 22:00:09.213</td>\n",
       "      <td>0.572644</td>\n",
       "      <td>1223575200</td>\n",
       "      <td>1223596800</td>\n",
       "      <td>0</td>\n",
       "    </tr>\n",
       "    <tr>\n",
       "      <th>4</th>\n",
       "      <td>5c7465696c1cea1665749558</td>\n",
       "      <td>5c7465696c1cea1665749553</td>\n",
       "      <td>2019-02-25 22:00:09.218</td>\n",
       "      <td>0.572644</td>\n",
       "      <td>1223618400</td>\n",
       "      <td>1223640000</td>\n",
       "      <td>0</td>\n",
       "    </tr>\n",
       "  </tbody>\n",
       "</table>\n",
       "</div>"
      ],
      "text/plain": [
       "                   event_id                   datarun             insert_time  \\\n",
       "0  5c7465696c1cea1665749554  5c7465696c1cea1665749553 2019-02-25 22:00:09.150   \n",
       "1  5c7465696c1cea1665749555  5c7465696c1cea1665749553 2019-02-25 22:00:09.204   \n",
       "2  5c7465696c1cea1665749556  5c7465696c1cea1665749553 2019-02-25 22:00:09.208   \n",
       "3  5c7465696c1cea1665749557  5c7465696c1cea1665749553 2019-02-25 22:00:09.213   \n",
       "4  5c7465696c1cea1665749558  5c7465696c1cea1665749553 2019-02-25 22:00:09.218   \n",
       "\n",
       "      score  start_time   stop_time  comments  \n",
       "0  0.572644  1222970400  1222992000         2  \n",
       "1  0.572644  1223013600  1223035200         0  \n",
       "2  0.572644  1223510400  1223532000         0  \n",
       "3  0.572644  1223575200  1223596800         0  \n",
       "4  0.572644  1223618400  1223640000         0  "
      ]
     },
     "execution_count": 15,
     "metadata": {},
     "output_type": "execute_result"
    }
   ],
   "source": [
    "orex.get_events(datarun).head()"
   ]
  },
  {
   "cell_type": "code",
   "execution_count": 16,
   "metadata": {},
   "outputs": [
    {
     "data": {
      "text/html": [
       "<div>\n",
       "<style scoped>\n",
       "    .dataframe tbody tr th:only-of-type {\n",
       "        vertical-align: middle;\n",
       "    }\n",
       "\n",
       "    .dataframe tbody tr th {\n",
       "        vertical-align: top;\n",
       "    }\n",
       "\n",
       "    .dataframe thead th {\n",
       "        text-align: right;\n",
       "    }\n",
       "</style>\n",
       "<table border=\"1\" class=\"dataframe\">\n",
       "  <thead>\n",
       "    <tr style=\"text-align: right;\">\n",
       "      <th></th>\n",
       "      <th>event_id</th>\n",
       "      <th>datarun</th>\n",
       "      <th>insert_time</th>\n",
       "      <th>score</th>\n",
       "      <th>start_time</th>\n",
       "      <th>stop_time</th>\n",
       "      <th>text</th>\n",
       "    </tr>\n",
       "  </thead>\n",
       "  <tbody>\n",
       "    <tr>\n",
       "      <th>0</th>\n",
       "      <td>5c7465696c1cea1665749554</td>\n",
       "      <td>5c7465696c1cea1665749553</td>\n",
       "      <td>2019-02-25 22:00:09.150</td>\n",
       "      <td>0.572644</td>\n",
       "      <td>1222970400</td>\n",
       "      <td>1222992000</td>\n",
       "      <td>This is a comment example.</td>\n",
       "    </tr>\n",
       "    <tr>\n",
       "      <th>1</th>\n",
       "      <td>5c7465696c1cea1665749554</td>\n",
       "      <td>5c7465696c1cea1665749553</td>\n",
       "      <td>2019-02-25 22:00:09.150</td>\n",
       "      <td>0.572644</td>\n",
       "      <td>1222970400</td>\n",
       "      <td>1222992000</td>\n",
       "      <td>This is another comment.</td>\n",
       "    </tr>\n",
       "  </tbody>\n",
       "</table>\n",
       "</div>"
      ],
      "text/plain": [
       "                   event_id                   datarun             insert_time  \\\n",
       "0  5c7465696c1cea1665749554  5c7465696c1cea1665749553 2019-02-25 22:00:09.150   \n",
       "1  5c7465696c1cea1665749554  5c7465696c1cea1665749553 2019-02-25 22:00:09.150   \n",
       "\n",
       "      score  start_time   stop_time                        text  \n",
       "0  0.572644  1222970400  1222992000  This is a comment example.  \n",
       "1  0.572644  1222970400  1222992000    This is another comment.  "
      ]
     },
     "execution_count": 16,
     "metadata": {},
     "output_type": "execute_result"
    }
   ],
   "source": [
    "orex.get_comments(datarun)"
   ]
  }
 ],
 "metadata": {
  "kernelspec": {
   "display_name": "Python 3",
   "language": "python",
   "name": "python3"
  },
  "language_info": {
   "codemirror_mode": {
    "name": "ipython",
    "version": 3
   },
   "file_extension": ".py",
   "mimetype": "text/x-python",
   "name": "python",
   "nbconvert_exporter": "python",
   "pygments_lexer": "ipython3",
   "version": "3.6.7"
  }
 },
 "nbformat": 4,
 "nbformat_minor": 2
}
