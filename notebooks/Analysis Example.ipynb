{
 "cells": [
  {
   "cell_type": "code",
   "execution_count": 13,
   "metadata": {},
   "outputs": [],
   "source": [
    "from orion.analysis import analyze\n",
    "from orion.explorer import OrionExplorer"
   ]
  },
  {
   "cell_type": "code",
   "execution_count": 14,
   "metadata": {},
   "outputs": [],
   "source": [
    "orex = OrionExplorer('orion')"
   ]
  },
  {
   "cell_type": "code",
   "execution_count": 15,
   "metadata": {},
   "outputs": [],
   "source": [
    "ds = orex.add_dataset('S-1', 'S-1', 'NASA')"
   ]
  },
  {
   "cell_type": "code",
   "execution_count": 16,
   "metadata": {},
   "outputs": [
    {
     "data": {
      "text/html": [
       "<div>\n",
       "<style scoped>\n",
       "    .dataframe tbody tr th:only-of-type {\n",
       "        vertical-align: middle;\n",
       "    }\n",
       "\n",
       "    .dataframe tbody tr th {\n",
       "        vertical-align: top;\n",
       "    }\n",
       "\n",
       "    .dataframe thead th {\n",
       "        text-align: right;\n",
       "    }\n",
       "</style>\n",
       "<table border=\"1\" class=\"dataframe\">\n",
       "  <thead>\n",
       "    <tr style=\"text-align: right;\">\n",
       "      <th></th>\n",
       "      <th>_id</th>\n",
       "      <th>insert_time</th>\n",
       "      <th>location</th>\n",
       "      <th>name</th>\n",
       "      <th>satellite</th>\n",
       "      <th>signal</th>\n",
       "    </tr>\n",
       "  </thead>\n",
       "  <tbody>\n",
       "    <tr>\n",
       "      <th>0</th>\n",
       "      <td>5c7421d26c1cea2386914098</td>\n",
       "      <td>2019-02-25 17:11:46.519</td>\n",
       "      <td></td>\n",
       "      <td>S-1</td>\n",
       "      <td>NASA</td>\n",
       "      <td>S-1</td>\n",
       "    </tr>\n",
       "  </tbody>\n",
       "</table>\n",
       "</div>"
      ],
      "text/plain": [
       "                        _id             insert_time location name satellite  \\\n",
       "0  5c7421d26c1cea2386914098 2019-02-25 17:11:46.519           S-1      NASA   \n",
       "\n",
       "  signal  \n",
       "0    S-1  "
      ]
     },
     "execution_count": 16,
     "metadata": {},
     "output_type": "execute_result"
    }
   ],
   "source": [
    "orex.get_datasets()"
   ]
  },
  {
   "cell_type": "code",
   "execution_count": 17,
   "metadata": {},
   "outputs": [
    {
     "data": {
      "text/plain": [
       "<Pipeline: Pipeline object>"
      ]
     },
     "execution_count": 17,
     "metadata": {},
     "output_type": "execute_result"
    }
   ],
   "source": [
    "orex.add_pipeline('dummy', '../orion/pipelines/dummy.json')"
   ]
  },
  {
   "cell_type": "code",
   "execution_count": 18,
   "metadata": {},
   "outputs": [
    {
     "data": {
      "text/html": [
       "<div>\n",
       "<style scoped>\n",
       "    .dataframe tbody tr th:only-of-type {\n",
       "        vertical-align: middle;\n",
       "    }\n",
       "\n",
       "    .dataframe tbody tr th {\n",
       "        vertical-align: top;\n",
       "    }\n",
       "\n",
       "    .dataframe thead th {\n",
       "        text-align: right;\n",
       "    }\n",
       "</style>\n",
       "<table border=\"1\" class=\"dataframe\">\n",
       "  <thead>\n",
       "    <tr style=\"text-align: right;\">\n",
       "      <th></th>\n",
       "      <th>_id</th>\n",
       "      <th>insert_time</th>\n",
       "      <th>mlpipeline</th>\n",
       "      <th>name</th>\n",
       "    </tr>\n",
       "  </thead>\n",
       "  <tbody>\n",
       "    <tr>\n",
       "      <th>0</th>\n",
       "      <td>5c7421d26c1cea2386914099</td>\n",
       "      <td>2019-02-25 17:11:46.925</td>\n",
       "      <td>{'primitives': ['orion.primitives.estimators.M...</td>\n",
       "      <td>dummy</td>\n",
       "    </tr>\n",
       "  </tbody>\n",
       "</table>\n",
       "</div>"
      ],
      "text/plain": [
       "                        _id             insert_time  \\\n",
       "0  5c7421d26c1cea2386914099 2019-02-25 17:11:46.925   \n",
       "\n",
       "                                          mlpipeline   name  \n",
       "0  {'primitives': ['orion.primitives.estimators.M...  dummy  "
      ]
     },
     "execution_count": 18,
     "metadata": {},
     "output_type": "execute_result"
    }
   ],
   "source": [
    "orex.get_pipelines()"
   ]
  },
  {
   "cell_type": "code",
   "execution_count": 19,
   "metadata": {},
   "outputs": [],
   "source": [
    "pipeline = orex.get_pipeline('dummy')"
   ]
  },
  {
   "cell_type": "code",
   "execution_count": 20,
   "metadata": {},
   "outputs": [
    {
     "data": {
      "text/plain": [
       "<Pipeline: Pipeline object>"
      ]
     },
     "execution_count": 20,
     "metadata": {},
     "output_type": "execute_result"
    }
   ],
   "source": [
    "pipeline"
   ]
  },
  {
   "cell_type": "code",
   "execution_count": 21,
   "metadata": {},
   "outputs": [],
   "source": [
    "datarun = analyze(orex, 'S-1', 'dummy')"
   ]
  },
  {
   "cell_type": "code",
   "execution_count": 29,
   "metadata": {},
   "outputs": [
    {
     "data": {
      "text/html": [
       "<div>\n",
       "<style scoped>\n",
       "    .dataframe tbody tr th:only-of-type {\n",
       "        vertical-align: middle;\n",
       "    }\n",
       "\n",
       "    .dataframe tbody tr th {\n",
       "        vertical-align: top;\n",
       "    }\n",
       "\n",
       "    .dataframe thead th {\n",
       "        text-align: right;\n",
       "    }\n",
       "</style>\n",
       "<table border=\"1\" class=\"dataframe\">\n",
       "  <thead>\n",
       "    <tr style=\"text-align: right;\">\n",
       "      <th></th>\n",
       "      <th>_id</th>\n",
       "      <th>dataset</th>\n",
       "      <th>end_time</th>\n",
       "      <th>events</th>\n",
       "      <th>insert_time</th>\n",
       "      <th>pipeline</th>\n",
       "      <th>start_time</th>\n",
       "    </tr>\n",
       "  </thead>\n",
       "  <tbody>\n",
       "    <tr>\n",
       "      <th>0</th>\n",
       "      <td>5c7421d56c1cea238691409a</td>\n",
       "      <td>5c7421d26c1cea2386914098</td>\n",
       "      <td>2019-02-25 17:11:49.091</td>\n",
       "      <td>926</td>\n",
       "      <td>2019-02-25 17:11:49.092</td>\n",
       "      <td>5c7421d26c1cea2386914099</td>\n",
       "      <td>2019-02-25 17:11:49.083</td>\n",
       "    </tr>\n",
       "  </tbody>\n",
       "</table>\n",
       "</div>"
      ],
      "text/plain": [
       "                        _id                   dataset                end_time  \\\n",
       "0  5c7421d56c1cea238691409a  5c7421d26c1cea2386914098 2019-02-25 17:11:49.091   \n",
       "\n",
       "   events             insert_time                  pipeline  \\\n",
       "0     926 2019-02-25 17:11:49.092  5c7421d26c1cea2386914099   \n",
       "\n",
       "               start_time  \n",
       "0 2019-02-25 17:11:49.083  "
      ]
     },
     "execution_count": 29,
     "metadata": {},
     "output_type": "execute_result"
    }
   ],
   "source": [
    "orex.get_dataruns()"
   ]
  },
  {
   "cell_type": "code",
   "execution_count": 31,
   "metadata": {},
   "outputs": [
    {
     "data": {
      "text/html": [
       "<div>\n",
       "<style scoped>\n",
       "    .dataframe tbody tr th:only-of-type {\n",
       "        vertical-align: middle;\n",
       "    }\n",
       "\n",
       "    .dataframe tbody tr th {\n",
       "        vertical-align: top;\n",
       "    }\n",
       "\n",
       "    .dataframe thead th {\n",
       "        text-align: right;\n",
       "    }\n",
       "</style>\n",
       "<table border=\"1\" class=\"dataframe\">\n",
       "  <thead>\n",
       "    <tr style=\"text-align: right;\">\n",
       "      <th></th>\n",
       "      <th>_id</th>\n",
       "      <th>datarun</th>\n",
       "      <th>insert_time</th>\n",
       "      <th>score</th>\n",
       "      <th>start_time</th>\n",
       "      <th>stop_time</th>\n",
       "    </tr>\n",
       "  </thead>\n",
       "  <tbody>\n",
       "    <tr>\n",
       "      <th>0</th>\n",
       "      <td>5c7421d56c1cea238691409b</td>\n",
       "      <td>5c7421d56c1cea238691409a</td>\n",
       "      <td>2019-02-25 17:11:49.143</td>\n",
       "      <td>0.572644</td>\n",
       "      <td>1222970400</td>\n",
       "      <td>1222992000</td>\n",
       "    </tr>\n",
       "    <tr>\n",
       "      <th>1</th>\n",
       "      <td>5c7421d56c1cea238691409c</td>\n",
       "      <td>5c7421d56c1cea238691409a</td>\n",
       "      <td>2019-02-25 17:11:49.193</td>\n",
       "      <td>0.572644</td>\n",
       "      <td>1223013600</td>\n",
       "      <td>1223035200</td>\n",
       "    </tr>\n",
       "    <tr>\n",
       "      <th>2</th>\n",
       "      <td>5c7421d56c1cea238691409d</td>\n",
       "      <td>5c7421d56c1cea238691409a</td>\n",
       "      <td>2019-02-25 17:11:49.198</td>\n",
       "      <td>0.572644</td>\n",
       "      <td>1223510400</td>\n",
       "      <td>1223532000</td>\n",
       "    </tr>\n",
       "    <tr>\n",
       "      <th>3</th>\n",
       "      <td>5c7421d56c1cea238691409e</td>\n",
       "      <td>5c7421d56c1cea238691409a</td>\n",
       "      <td>2019-02-25 17:11:49.203</td>\n",
       "      <td>0.572644</td>\n",
       "      <td>1223575200</td>\n",
       "      <td>1223596800</td>\n",
       "    </tr>\n",
       "    <tr>\n",
       "      <th>4</th>\n",
       "      <td>5c7421d56c1cea238691409f</td>\n",
       "      <td>5c7421d56c1cea238691409a</td>\n",
       "      <td>2019-02-25 17:11:49.207</td>\n",
       "      <td>0.572644</td>\n",
       "      <td>1223618400</td>\n",
       "      <td>1223640000</td>\n",
       "    </tr>\n",
       "  </tbody>\n",
       "</table>\n",
       "</div>"
      ],
      "text/plain": [
       "                        _id                   datarun             insert_time  \\\n",
       "0  5c7421d56c1cea238691409b  5c7421d56c1cea238691409a 2019-02-25 17:11:49.143   \n",
       "1  5c7421d56c1cea238691409c  5c7421d56c1cea238691409a 2019-02-25 17:11:49.193   \n",
       "2  5c7421d56c1cea238691409d  5c7421d56c1cea238691409a 2019-02-25 17:11:49.198   \n",
       "3  5c7421d56c1cea238691409e  5c7421d56c1cea238691409a 2019-02-25 17:11:49.203   \n",
       "4  5c7421d56c1cea238691409f  5c7421d56c1cea238691409a 2019-02-25 17:11:49.207   \n",
       "\n",
       "      score  start_time   stop_time  \n",
       "0  0.572644  1222970400  1222992000  \n",
       "1  0.572644  1223013600  1223035200  \n",
       "2  0.572644  1223510400  1223532000  \n",
       "3  0.572644  1223575200  1223596800  \n",
       "4  0.572644  1223618400  1223640000  "
      ]
     },
     "execution_count": 31,
     "metadata": {},
     "output_type": "execute_result"
    }
   ],
   "source": [
    "orex.get_events(datarun).head()"
   ]
  }
 ],
 "metadata": {
  "kernelspec": {
   "display_name": "Python 3",
   "language": "python",
   "name": "python3"
  },
  "language_info": {
   "codemirror_mode": {
    "name": "ipython",
    "version": 3
   },
   "file_extension": ".py",
   "mimetype": "text/x-python",
   "name": "python",
   "nbconvert_exporter": "python",
   "pygments_lexer": "ipython3",
   "version": "3.6.7"
  }
 },
 "nbformat": 4,
 "nbformat_minor": 2
}
