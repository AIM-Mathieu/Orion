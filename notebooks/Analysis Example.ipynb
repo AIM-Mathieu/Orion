{
 "cells": [
  {
   "cell_type": "markdown",
   "metadata": {},
   "source": [
    "# Analysis on NASA data using a dummy pipeline"
   ]
  },
  {
   "cell_type": "markdown",
   "metadata": {},
   "source": [
    "This is a demo notebook showing how to use a pipeline to analyze the `S-1` dataset. It also shows how to list events and comments."
   ]
  },
  {
   "cell_type": "code",
   "execution_count": 1,
   "metadata": {},
   "outputs": [],
   "source": [
    "from orion.explorer import OrionExplorer"
   ]
  },
  {
   "cell_type": "code",
   "execution_count": 2,
   "metadata": {},
   "outputs": [],
   "source": [
    "orex = OrionExplorer()"
   ]
  },
  {
   "cell_type": "code",
   "execution_count": 3,
   "metadata": {},
   "outputs": [],
   "source": [
    "orex.drop_database()"
   ]
  },
  {
   "cell_type": "code",
   "execution_count": 4,
   "metadata": {},
   "outputs": [],
   "source": [
    "ds = orex.add_dataset('S-1', 'S-1', None, None, None)"
   ]
  },
  {
   "cell_type": "code",
   "execution_count": 5,
   "metadata": {},
   "outputs": [
    {
     "data": {
      "text/html": [
       "<div>\n",
       "<style scoped>\n",
       "    .dataframe tbody tr th:only-of-type {\n",
       "        vertical-align: middle;\n",
       "    }\n",
       "\n",
       "    .dataframe tbody tr th {\n",
       "        vertical-align: top;\n",
       "    }\n",
       "\n",
       "    .dataframe thead th {\n",
       "        text-align: right;\n",
       "    }\n",
       "</style>\n",
       "<table border=\"1\" class=\"dataframe\">\n",
       "  <thead>\n",
       "    <tr style=\"text-align: right;\">\n",
       "      <th></th>\n",
       "      <th>dataset_id</th>\n",
       "      <th>data_location</th>\n",
       "      <th>insert_time</th>\n",
       "      <th>name</th>\n",
       "      <th>signal_set</th>\n",
       "      <th>start_time</th>\n",
       "      <th>stop_time</th>\n",
       "    </tr>\n",
       "  </thead>\n",
       "  <tbody>\n",
       "    <tr>\n",
       "      <th>0</th>\n",
       "      <td>5c9e5c0d18548179ab641a6e</td>\n",
       "      <td>S-1</td>\n",
       "      <td>2019-03-29 17:55:25.206</td>\n",
       "      <td>S-1</td>\n",
       "      <td>S-1</td>\n",
       "      <td>1222819200</td>\n",
       "      <td>1442016000</td>\n",
       "    </tr>\n",
       "  </tbody>\n",
       "</table>\n",
       "</div>"
      ],
      "text/plain": [
       "                 dataset_id data_location             insert_time name  \\\n",
       "0  5c9e5c0d18548179ab641a6e           S-1 2019-03-29 17:55:25.206  S-1   \n",
       "\n",
       "  signal_set  start_time   stop_time  \n",
       "0        S-1  1222819200  1442016000  "
      ]
     },
     "execution_count": 5,
     "metadata": {},
     "output_type": "execute_result"
    }
   ],
   "source": [
    "orex.get_datasets()"
   ]
  },
  {
   "cell_type": "code",
   "execution_count": 6,
   "metadata": {},
   "outputs": [
    {
     "data": {
      "text/plain": [
       "<Pipeline: Pipeline object>"
      ]
     },
     "execution_count": 6,
     "metadata": {},
     "output_type": "execute_result"
    }
   ],
   "source": [
    "orex.add_pipeline('dummy', '../orion/pipelines/dummy.json')"
   ]
  },
  {
   "cell_type": "code",
   "execution_count": 7,
   "metadata": {},
   "outputs": [
    {
     "data": {
      "text/html": [
       "<div>\n",
       "<style scoped>\n",
       "    .dataframe tbody tr th:only-of-type {\n",
       "        vertical-align: middle;\n",
       "    }\n",
       "\n",
       "    .dataframe tbody tr th {\n",
       "        vertical-align: top;\n",
       "    }\n",
       "\n",
       "    .dataframe thead th {\n",
       "        text-align: right;\n",
       "    }\n",
       "</style>\n",
       "<table border=\"1\" class=\"dataframe\">\n",
       "  <thead>\n",
       "    <tr style=\"text-align: right;\">\n",
       "      <th></th>\n",
       "      <th>pipeline_id</th>\n",
       "      <th>insert_time</th>\n",
       "      <th>mlpipeline</th>\n",
       "      <th>name</th>\n",
       "    </tr>\n",
       "  </thead>\n",
       "  <tbody>\n",
       "    <tr>\n",
       "      <th>0</th>\n",
       "      <td>5c9e5c0f18548179ab641a6f</td>\n",
       "      <td>2019-03-29 17:55:27.538</td>\n",
       "      <td>{'primitives': ['orion.primitives.estimators.M...</td>\n",
       "      <td>dummy</td>\n",
       "    </tr>\n",
       "  </tbody>\n",
       "</table>\n",
       "</div>"
      ],
      "text/plain": [
       "                pipeline_id             insert_time  \\\n",
       "0  5c9e5c0f18548179ab641a6f 2019-03-29 17:55:27.538   \n",
       "\n",
       "                                          mlpipeline   name  \n",
       "0  {'primitives': ['orion.primitives.estimators.M...  dummy  "
      ]
     },
     "execution_count": 7,
     "metadata": {},
     "output_type": "execute_result"
    }
   ],
   "source": [
    "orex.get_pipelines()"
   ]
  },
  {
   "cell_type": "code",
   "execution_count": 8,
   "metadata": {},
   "outputs": [],
   "source": [
    "pipeline = orex.get_pipeline('dummy')"
   ]
  },
  {
   "cell_type": "code",
   "execution_count": 9,
   "metadata": {},
   "outputs": [
    {
     "data": {
      "text/plain": [
       "<Pipeline: Pipeline object>"
      ]
     },
     "execution_count": 9,
     "metadata": {},
     "output_type": "execute_result"
    }
   ],
   "source": [
    "pipeline"
   ]
  },
  {
   "cell_type": "code",
   "execution_count": 10,
   "metadata": {},
   "outputs": [],
   "source": [
    "datarun = orex.analyze('S-1', 'dummy')"
   ]
  },
  {
   "cell_type": "code",
   "execution_count": 11,
   "metadata": {},
   "outputs": [
    {
     "data": {
      "text/html": [
       "<div>\n",
       "<style scoped>\n",
       "    .dataframe tbody tr th:only-of-type {\n",
       "        vertical-align: middle;\n",
       "    }\n",
       "\n",
       "    .dataframe tbody tr th {\n",
       "        vertical-align: top;\n",
       "    }\n",
       "\n",
       "    .dataframe thead th {\n",
       "        text-align: right;\n",
       "    }\n",
       "</style>\n",
       "<table border=\"1\" class=\"dataframe\">\n",
       "  <thead>\n",
       "    <tr style=\"text-align: right;\">\n",
       "      <th></th>\n",
       "      <th>datarun_id</th>\n",
       "      <th>dataset</th>\n",
       "      <th>end_time</th>\n",
       "      <th>events</th>\n",
       "      <th>insert_time</th>\n",
       "      <th>pipeline</th>\n",
       "      <th>start_time</th>\n",
       "      <th>status</th>\n",
       "    </tr>\n",
       "  </thead>\n",
       "  <tbody>\n",
       "    <tr>\n",
       "      <th>0</th>\n",
       "      <td>5c9e5c1718548179ab641a70</td>\n",
       "      <td>5c9e5c0d18548179ab641a6e</td>\n",
       "      <td>2019-03-29 17:55:37.034</td>\n",
       "      <td>926</td>\n",
       "      <td>2019-03-29 17:55:35.638</td>\n",
       "      <td>5c9e5c0f18548179ab641a6f</td>\n",
       "      <td>2019-03-29 17:55:35.637</td>\n",
       "      <td>done</td>\n",
       "    </tr>\n",
       "  </tbody>\n",
       "</table>\n",
       "</div>"
      ],
      "text/plain": [
       "                 datarun_id                   dataset                end_time  \\\n",
       "0  5c9e5c1718548179ab641a70  5c9e5c0d18548179ab641a6e 2019-03-29 17:55:37.034   \n",
       "\n",
       "   events             insert_time                  pipeline  \\\n",
       "0     926 2019-03-29 17:55:35.638  5c9e5c0f18548179ab641a6f   \n",
       "\n",
       "               start_time status  \n",
       "0 2019-03-29 17:55:35.637   done  "
      ]
     },
     "execution_count": 11,
     "metadata": {},
     "output_type": "execute_result"
    }
   ],
   "source": [
    "orex.get_dataruns()"
   ]
  },
  {
   "cell_type": "code",
   "execution_count": 12,
   "metadata": {},
   "outputs": [
    {
     "data": {
      "text/html": [
       "<div>\n",
       "<style scoped>\n",
       "    .dataframe tbody tr th:only-of-type {\n",
       "        vertical-align: middle;\n",
       "    }\n",
       "\n",
       "    .dataframe tbody tr th {\n",
       "        vertical-align: top;\n",
       "    }\n",
       "\n",
       "    .dataframe thead th {\n",
       "        text-align: right;\n",
       "    }\n",
       "</style>\n",
       "<table border=\"1\" class=\"dataframe\">\n",
       "  <thead>\n",
       "    <tr style=\"text-align: right;\">\n",
       "      <th></th>\n",
       "      <th>event_id</th>\n",
       "      <th>datarun</th>\n",
       "      <th>insert_time</th>\n",
       "      <th>score</th>\n",
       "      <th>start_time</th>\n",
       "      <th>stop_time</th>\n",
       "      <th>comments</th>\n",
       "    </tr>\n",
       "  </thead>\n",
       "  <tbody>\n",
       "    <tr>\n",
       "      <th>0</th>\n",
       "      <td>5c9e5c1718548179ab641a71</td>\n",
       "      <td>5c9e5c1718548179ab641a70</td>\n",
       "      <td>2019-03-29 17:55:35.719</td>\n",
       "      <td>0.572644</td>\n",
       "      <td>1222970400</td>\n",
       "      <td>1222992000</td>\n",
       "      <td>0</td>\n",
       "    </tr>\n",
       "    <tr>\n",
       "      <th>1</th>\n",
       "      <td>5c9e5c1718548179ab641a72</td>\n",
       "      <td>5c9e5c1718548179ab641a70</td>\n",
       "      <td>2019-03-29 17:55:35.761</td>\n",
       "      <td>0.572644</td>\n",
       "      <td>1223013600</td>\n",
       "      <td>1223035200</td>\n",
       "      <td>0</td>\n",
       "    </tr>\n",
       "    <tr>\n",
       "      <th>2</th>\n",
       "      <td>5c9e5c1718548179ab641a73</td>\n",
       "      <td>5c9e5c1718548179ab641a70</td>\n",
       "      <td>2019-03-29 17:55:35.765</td>\n",
       "      <td>0.572644</td>\n",
       "      <td>1223510400</td>\n",
       "      <td>1223532000</td>\n",
       "      <td>0</td>\n",
       "    </tr>\n",
       "    <tr>\n",
       "      <th>3</th>\n",
       "      <td>5c9e5c1718548179ab641a74</td>\n",
       "      <td>5c9e5c1718548179ab641a70</td>\n",
       "      <td>2019-03-29 17:55:35.769</td>\n",
       "      <td>0.572644</td>\n",
       "      <td>1223575200</td>\n",
       "      <td>1223596800</td>\n",
       "      <td>0</td>\n",
       "    </tr>\n",
       "    <tr>\n",
       "      <th>4</th>\n",
       "      <td>5c9e5c1718548179ab641a75</td>\n",
       "      <td>5c9e5c1718548179ab641a70</td>\n",
       "      <td>2019-03-29 17:55:35.774</td>\n",
       "      <td>0.572644</td>\n",
       "      <td>1223618400</td>\n",
       "      <td>1223640000</td>\n",
       "      <td>0</td>\n",
       "    </tr>\n",
       "  </tbody>\n",
       "</table>\n",
       "</div>"
      ],
      "text/plain": [
       "                   event_id                   datarun             insert_time  \\\n",
       "0  5c9e5c1718548179ab641a71  5c9e5c1718548179ab641a70 2019-03-29 17:55:35.719   \n",
       "1  5c9e5c1718548179ab641a72  5c9e5c1718548179ab641a70 2019-03-29 17:55:35.761   \n",
       "2  5c9e5c1718548179ab641a73  5c9e5c1718548179ab641a70 2019-03-29 17:55:35.765   \n",
       "3  5c9e5c1718548179ab641a74  5c9e5c1718548179ab641a70 2019-03-29 17:55:35.769   \n",
       "4  5c9e5c1718548179ab641a75  5c9e5c1718548179ab641a70 2019-03-29 17:55:35.774   \n",
       "\n",
       "      score  start_time   stop_time  comments  \n",
       "0  0.572644  1222970400  1222992000         0  \n",
       "1  0.572644  1223013600  1223035200         0  \n",
       "2  0.572644  1223510400  1223532000         0  \n",
       "3  0.572644  1223575200  1223596800         0  \n",
       "4  0.572644  1223618400  1223640000         0  "
      ]
     },
     "execution_count": 12,
     "metadata": {},
     "output_type": "execute_result"
    }
   ],
   "source": [
    "events = orex.get_events(datarun)\n",
    "events.head()"
   ]
  },
  {
   "cell_type": "code",
   "execution_count": 13,
   "metadata": {},
   "outputs": [],
   "source": [
    "orex.add_comment(events.event_id.iloc[0], 'This is a comment example.', 'user-id')"
   ]
  },
  {
   "cell_type": "code",
   "execution_count": 14,
   "metadata": {},
   "outputs": [],
   "source": [
    "orex.add_comment(events.event_id.iloc[0], 'This is another comment.', 'other-user-id')"
   ]
  },
  {
   "cell_type": "code",
   "execution_count": 15,
   "metadata": {},
   "outputs": [
    {
     "data": {
      "text/html": [
       "<div>\n",
       "<style scoped>\n",
       "    .dataframe tbody tr th:only-of-type {\n",
       "        vertical-align: middle;\n",
       "    }\n",
       "\n",
       "    .dataframe tbody tr th {\n",
       "        vertical-align: top;\n",
       "    }\n",
       "\n",
       "    .dataframe thead th {\n",
       "        text-align: right;\n",
       "    }\n",
       "</style>\n",
       "<table border=\"1\" class=\"dataframe\">\n",
       "  <thead>\n",
       "    <tr style=\"text-align: right;\">\n",
       "      <th></th>\n",
       "      <th>event_id</th>\n",
       "      <th>datarun</th>\n",
       "      <th>insert_time</th>\n",
       "      <th>score</th>\n",
       "      <th>start_time</th>\n",
       "      <th>stop_time</th>\n",
       "      <th>comments</th>\n",
       "    </tr>\n",
       "  </thead>\n",
       "  <tbody>\n",
       "    <tr>\n",
       "      <th>0</th>\n",
       "      <td>5c9e5c1718548179ab641a71</td>\n",
       "      <td>5c9e5c1718548179ab641a70</td>\n",
       "      <td>2019-03-29 17:55:35.719</td>\n",
       "      <td>0.572644</td>\n",
       "      <td>1222970400</td>\n",
       "      <td>1222992000</td>\n",
       "      <td>2</td>\n",
       "    </tr>\n",
       "    <tr>\n",
       "      <th>1</th>\n",
       "      <td>5c9e5c1718548179ab641a72</td>\n",
       "      <td>5c9e5c1718548179ab641a70</td>\n",
       "      <td>2019-03-29 17:55:35.761</td>\n",
       "      <td>0.572644</td>\n",
       "      <td>1223013600</td>\n",
       "      <td>1223035200</td>\n",
       "      <td>0</td>\n",
       "    </tr>\n",
       "    <tr>\n",
       "      <th>2</th>\n",
       "      <td>5c9e5c1718548179ab641a73</td>\n",
       "      <td>5c9e5c1718548179ab641a70</td>\n",
       "      <td>2019-03-29 17:55:35.765</td>\n",
       "      <td>0.572644</td>\n",
       "      <td>1223510400</td>\n",
       "      <td>1223532000</td>\n",
       "      <td>0</td>\n",
       "    </tr>\n",
       "    <tr>\n",
       "      <th>3</th>\n",
       "      <td>5c9e5c1718548179ab641a74</td>\n",
       "      <td>5c9e5c1718548179ab641a70</td>\n",
       "      <td>2019-03-29 17:55:35.769</td>\n",
       "      <td>0.572644</td>\n",
       "      <td>1223575200</td>\n",
       "      <td>1223596800</td>\n",
       "      <td>0</td>\n",
       "    </tr>\n",
       "    <tr>\n",
       "      <th>4</th>\n",
       "      <td>5c9e5c1718548179ab641a75</td>\n",
       "      <td>5c9e5c1718548179ab641a70</td>\n",
       "      <td>2019-03-29 17:55:35.774</td>\n",
       "      <td>0.572644</td>\n",
       "      <td>1223618400</td>\n",
       "      <td>1223640000</td>\n",
       "      <td>0</td>\n",
       "    </tr>\n",
       "  </tbody>\n",
       "</table>\n",
       "</div>"
      ],
      "text/plain": [
       "                   event_id                   datarun             insert_time  \\\n",
       "0  5c9e5c1718548179ab641a71  5c9e5c1718548179ab641a70 2019-03-29 17:55:35.719   \n",
       "1  5c9e5c1718548179ab641a72  5c9e5c1718548179ab641a70 2019-03-29 17:55:35.761   \n",
       "2  5c9e5c1718548179ab641a73  5c9e5c1718548179ab641a70 2019-03-29 17:55:35.765   \n",
       "3  5c9e5c1718548179ab641a74  5c9e5c1718548179ab641a70 2019-03-29 17:55:35.769   \n",
       "4  5c9e5c1718548179ab641a75  5c9e5c1718548179ab641a70 2019-03-29 17:55:35.774   \n",
       "\n",
       "      score  start_time   stop_time  comments  \n",
       "0  0.572644  1222970400  1222992000         2  \n",
       "1  0.572644  1223013600  1223035200         0  \n",
       "2  0.572644  1223510400  1223532000         0  \n",
       "3  0.572644  1223575200  1223596800         0  \n",
       "4  0.572644  1223618400  1223640000         0  "
      ]
     },
     "execution_count": 15,
     "metadata": {},
     "output_type": "execute_result"
    }
   ],
   "source": [
    "orex.get_events(datarun).head()"
   ]
  },
  {
   "cell_type": "code",
   "execution_count": 16,
   "metadata": {},
   "outputs": [
    {
     "data": {
      "text/html": [
       "<div>\n",
       "<style scoped>\n",
       "    .dataframe tbody tr th:only-of-type {\n",
       "        vertical-align: middle;\n",
       "    }\n",
       "\n",
       "    .dataframe tbody tr th {\n",
       "        vertical-align: top;\n",
       "    }\n",
       "\n",
       "    .dataframe thead th {\n",
       "        text-align: right;\n",
       "    }\n",
       "</style>\n",
       "<table border=\"1\" class=\"dataframe\">\n",
       "  <thead>\n",
       "    <tr style=\"text-align: right;\">\n",
       "      <th></th>\n",
       "      <th>event_id</th>\n",
       "      <th>datarun</th>\n",
       "      <th>score</th>\n",
       "      <th>start_time</th>\n",
       "      <th>stop_time</th>\n",
       "      <th>comment_id</th>\n",
       "      <th>created_by</th>\n",
       "      <th>insert_time</th>\n",
       "      <th>text</th>\n",
       "    </tr>\n",
       "  </thead>\n",
       "  <tbody>\n",
       "    <tr>\n",
       "      <th>0</th>\n",
       "      <td>5c9e5c1718548179ab641a71</td>\n",
       "      <td>5c9e5c1718548179ab641a70</td>\n",
       "      <td>0.572644</td>\n",
       "      <td>1222970400</td>\n",
       "      <td>1222992000</td>\n",
       "      <td>5c9e5c2218548179ab641e0f</td>\n",
       "      <td>user-id</td>\n",
       "      <td>2019-03-29 17:55:46.510</td>\n",
       "      <td>This is a comment example.</td>\n",
       "    </tr>\n",
       "    <tr>\n",
       "      <th>1</th>\n",
       "      <td>5c9e5c1718548179ab641a71</td>\n",
       "      <td>5c9e5c1718548179ab641a70</td>\n",
       "      <td>0.572644</td>\n",
       "      <td>1222970400</td>\n",
       "      <td>1222992000</td>\n",
       "      <td>5c9e5c2618548179ab641e10</td>\n",
       "      <td>other-user-id</td>\n",
       "      <td>2019-03-29 17:55:50.589</td>\n",
       "      <td>This is another comment.</td>\n",
       "    </tr>\n",
       "  </tbody>\n",
       "</table>\n",
       "</div>"
      ],
      "text/plain": [
       "                   event_id                   datarun     score  start_time  \\\n",
       "0  5c9e5c1718548179ab641a71  5c9e5c1718548179ab641a70  0.572644  1222970400   \n",
       "1  5c9e5c1718548179ab641a71  5c9e5c1718548179ab641a70  0.572644  1222970400   \n",
       "\n",
       "    stop_time                comment_id     created_by  \\\n",
       "0  1222992000  5c9e5c2218548179ab641e0f        user-id   \n",
       "1  1222992000  5c9e5c2618548179ab641e10  other-user-id   \n",
       "\n",
       "              insert_time                        text  \n",
       "0 2019-03-29 17:55:46.510  This is a comment example.  \n",
       "1 2019-03-29 17:55:50.589    This is another comment.  "
      ]
     },
     "execution_count": 16,
     "metadata": {},
     "output_type": "execute_result"
    }
   ],
   "source": [
    "orex.get_comments(datarun)"
   ]
  }
 ],
 "metadata": {
  "kernelspec": {
   "display_name": "Python 3",
   "language": "python",
   "name": "python3"
  },
  "language_info": {
   "codemirror_mode": {
    "name": "ipython",
    "version": 3
   },
   "file_extension": ".py",
   "mimetype": "text/x-python",
   "name": "python",
   "nbconvert_exporter": "python",
   "pygments_lexer": "ipython3",
   "version": "3.6.7"
  }
 },
 "nbformat": 4,
 "nbformat_minor": 2
}
