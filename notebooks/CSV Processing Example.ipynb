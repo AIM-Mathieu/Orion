{
 "cells": [
  {
   "cell_type": "markdown",
   "metadata": {},
   "source": [
    "# CSV Processing Example"
   ]
  },
  {
   "cell_type": "markdown",
   "metadata": {},
   "source": [
    "This is a demo notebook showing how to use the `lstm_dynamic_threshold.json` pipeline to analyze a collection of signal CSV files and later on retrieve the list of Events found."
   ]
  },
  {
   "cell_type": "markdown",
   "metadata": {},
   "source": [
    "## 1. Create an OrionExlorer Instance"
   ]
  },
  {
   "cell_type": "markdown",
   "metadata": {},
   "source": [
    "In this first step, we setup the environment, import the `OrionExplorer` and create\n",
    "an instance passing the name of the database which we want to connect to."
   ]
  },
  {
   "cell_type": "code",
   "execution_count": 1,
   "metadata": {},
   "outputs": [],
   "source": [
    "import logging;\n",
    "\n",
    "logging.basicConfig(level=logging.ERROR)\n",
    "logging.getLogger().setLevel(level=logging.ERROR)\n",
    "\n",
    "import warnings\n",
    "warnings.simplefilter(\"ignore\")"
   ]
  },
  {
   "cell_type": "code",
   "execution_count": 2,
   "metadata": {},
   "outputs": [],
   "source": [
    "from orion.explorer import OrionExplorer"
   ]
  },
  {
   "cell_type": "code",
   "execution_count": 3,
   "metadata": {},
   "outputs": [],
   "source": [
    "explorer = OrionExplorer(database='orion-process-csvs')"
   ]
  },
  {
   "cell_type": "markdown",
   "metadata": {},
   "source": [
    "In this case we will drop the database before starting to make sure that we are working\n",
    "on a clean environment.\n",
    "\n",
    "**WARNING**: This will remove all the data that exists in this database!"
   ]
  },
  {
   "cell_type": "code",
   "execution_count": 4,
   "metadata": {},
   "outputs": [],
   "source": [
    "explorer.drop_database()"
   ]
  },
  {
   "cell_type": "markdown",
   "metadata": {},
   "source": [
    "## 2. Add the pipeline that we will be using\n",
    "\n",
    "The second step is to register the pipeline that we are going to use.\n",
    "\n",
    "For this, we will enter:\n",
    "\n",
    "* a pipeline name.\n",
    "* the path to the `lstm_dynamic_threshold` json."
   ]
  },
  {
   "cell_type": "code",
   "execution_count": 5,
   "metadata": {},
   "outputs": [],
   "source": [
    "pipeline = explorer.add_pipeline(\n",
    "    'lstm_dynamic_threshold',\n",
    "    '../orion/pipelines/lstm_dynamic_threshold.json'\n",
    ")"
   ]
  },
  {
   "cell_type": "markdown",
   "metadata": {},
   "source": [
    "Afterwards, we can obtain the list of pipelines to see if it has been properly registered"
   ]
  },
  {
   "cell_type": "code",
   "execution_count": 6,
   "metadata": {},
   "outputs": [
    {
     "data": {
      "text/html": [
       "<div>\n",
       "<style scoped>\n",
       "    .dataframe tbody tr th:only-of-type {\n",
       "        vertical-align: middle;\n",
       "    }\n",
       "\n",
       "    .dataframe tbody tr th {\n",
       "        vertical-align: top;\n",
       "    }\n",
       "\n",
       "    .dataframe thead th {\n",
       "        text-align: right;\n",
       "    }\n",
       "</style>\n",
       "<table border=\"1\" class=\"dataframe\">\n",
       "  <thead>\n",
       "    <tr style=\"text-align: right;\">\n",
       "      <th></th>\n",
       "      <th>pipeline_id</th>\n",
       "      <th>insert_time</th>\n",
       "      <th>mlpipeline</th>\n",
       "      <th>name</th>\n",
       "    </tr>\n",
       "  </thead>\n",
       "  <tbody>\n",
       "    <tr>\n",
       "      <th>0</th>\n",
       "      <td>5ca78d476c1cea5a4c0e5eb9</td>\n",
       "      <td>2019-04-05 17:15:51.913</td>\n",
       "      <td>{'primitives': ['mlprimitives.custom.timeserie...</td>\n",
       "      <td>lstm_dynamic_threshold</td>\n",
       "    </tr>\n",
       "  </tbody>\n",
       "</table>\n",
       "</div>"
      ],
      "text/plain": [
       "                pipeline_id             insert_time  \\\n",
       "0  5ca78d476c1cea5a4c0e5eb9 2019-04-05 17:15:51.913   \n",
       "\n",
       "                                          mlpipeline                    name  \n",
       "0  {'primitives': ['mlprimitives.custom.timeserie...  lstm_dynamic_threshold  "
      ]
     },
     "execution_count": 6,
     "metadata": {},
     "output_type": "execute_result"
    }
   ],
   "source": [
    "explorer.get_pipelines()"
   ]
  },
  {
   "cell_type": "markdown",
   "metadata": {},
   "source": [
    "## 3. Get the list of CSV files"
   ]
  },
  {
   "cell_type": "markdown",
   "metadata": {},
   "source": [
    "In this example we will use the `os` module to find the list of CSV files that exist inside the directory\n",
    "`data` that we have created inside this `notebooks` folder.\n",
    "\n",
    "Another way to do it would be to provide an explicit list of filenames"
   ]
  },
  {
   "cell_type": "code",
   "execution_count": 7,
   "metadata": {},
   "outputs": [
    {
     "data": {
      "text/plain": [
       "['S-1.csv', 'S-2.csv', 'P-1.csv', 'E-1.csv']"
      ]
     },
     "execution_count": 7,
     "metadata": {},
     "output_type": "execute_result"
    }
   ],
   "source": [
    "import os\n",
    "\n",
    "CSVS_FOLDER = './data'\n",
    "\n",
    "csvs = os.listdir(CSVS_FOLDER)\n",
    "csvs"
   ]
  },
  {
   "cell_type": "markdown",
   "metadata": {},
   "source": [
    "## 3. Register the new datasets\n",
    "\n",
    "We will execute a loop in which, for each CSV file, we will register a new Dataset in the Database.\n",
    "\n",
    "For each CSV, the name that we will use for dataset and the signal will be name of the file without the `.csv` extension, and will be leaving the satellite_id blank.\n",
    "\n",
    "In this case we need no additional arguments, such as timestamp_column or value_column, but if they were required\n",
    "we would add them to the `add_dataset` call.\n",
    "\n",
    "We will also capture the output of the `add_dataset` call in a list, so we can use these datasets later on."
   ]
  },
  {
   "cell_type": "code",
   "execution_count": 8,
   "metadata": {},
   "outputs": [
    {
     "name": "stdout",
     "output_type": "stream",
     "text": [
      "Adding dataset S-1 for CSV ./data/S-1.csv\n",
      "Adding dataset S-2 for CSV ./data/S-2.csv\n",
      "Adding dataset P-1 for CSV ./data/P-1.csv\n",
      "Adding dataset E-1 for CSV ./data/E-1.csv\n"
     ]
    }
   ],
   "source": [
    "datasets = list()\n",
    "cwd = os.getcwd()\n",
    "\n",
    "for path in csvs:\n",
    "    name = os.path.basename(path)[:-4]\n",
    "    location = os.path.join(CSVS_FOLDER, path)\n",
    "    print('Adding dataset {} for CSV {}'.format(name, location))\n",
    "    dataset = explorer.add_dataset(\n",
    "        name,\n",
    "        name,\n",
    "        location=location,\n",
    "        timestamp_column=None,    # Replace if needed\n",
    "        value_column=None,        # Replace if needed\n",
    "    )\n",
    "    datasets.append(dataset)"
   ]
  },
  {
   "cell_type": "markdown",
   "metadata": {},
   "source": [
    "Afterwards we can check that the datasets were properly registered"
   ]
  },
  {
   "cell_type": "code",
   "execution_count": 9,
   "metadata": {},
   "outputs": [
    {
     "data": {
      "text/html": [
       "<div>\n",
       "<style scoped>\n",
       "    .dataframe tbody tr th:only-of-type {\n",
       "        vertical-align: middle;\n",
       "    }\n",
       "\n",
       "    .dataframe tbody tr th {\n",
       "        vertical-align: top;\n",
       "    }\n",
       "\n",
       "    .dataframe thead th {\n",
       "        text-align: right;\n",
       "    }\n",
       "</style>\n",
       "<table border=\"1\" class=\"dataframe\">\n",
       "  <thead>\n",
       "    <tr style=\"text-align: right;\">\n",
       "      <th></th>\n",
       "      <th>dataset_id</th>\n",
       "      <th>data_location</th>\n",
       "      <th>insert_time</th>\n",
       "      <th>name</th>\n",
       "      <th>signal_set</th>\n",
       "      <th>start_time</th>\n",
       "      <th>stop_time</th>\n",
       "    </tr>\n",
       "  </thead>\n",
       "  <tbody>\n",
       "    <tr>\n",
       "      <th>0</th>\n",
       "      <td>5ca78d4a6c1cea5a4c0e5eba</td>\n",
       "      <td>./data/S-1.csv</td>\n",
       "      <td>2019-04-05 17:15:54.728</td>\n",
       "      <td>S-1</td>\n",
       "      <td>S-1</td>\n",
       "      <td>1222819200</td>\n",
       "      <td>1442016000</td>\n",
       "    </tr>\n",
       "    <tr>\n",
       "      <th>1</th>\n",
       "      <td>5ca78d4a6c1cea5a4c0e5ebb</td>\n",
       "      <td>./data/S-2.csv</td>\n",
       "      <td>2019-04-05 17:15:54.767</td>\n",
       "      <td>S-2</td>\n",
       "      <td>S-2</td>\n",
       "      <td>1222819200</td>\n",
       "      <td>1282262400</td>\n",
       "    </tr>\n",
       "    <tr>\n",
       "      <th>2</th>\n",
       "      <td>5ca78d4a6c1cea5a4c0e5ebc</td>\n",
       "      <td>./data/P-1.csv</td>\n",
       "      <td>2019-04-05 17:15:54.775</td>\n",
       "      <td>P-1</td>\n",
       "      <td>P-1</td>\n",
       "      <td>1222819200</td>\n",
       "      <td>1468540800</td>\n",
       "    </tr>\n",
       "    <tr>\n",
       "      <th>3</th>\n",
       "      <td>5ca78d4a6c1cea5a4c0e5ebd</td>\n",
       "      <td>./data/E-1.csv</td>\n",
       "      <td>2019-04-05 17:15:54.783</td>\n",
       "      <td>E-1</td>\n",
       "      <td>E-1</td>\n",
       "      <td>1222819200</td>\n",
       "      <td>1468951200</td>\n",
       "    </tr>\n",
       "  </tbody>\n",
       "</table>\n",
       "</div>"
      ],
      "text/plain": [
       "                 dataset_id   data_location             insert_time name  \\\n",
       "0  5ca78d4a6c1cea5a4c0e5eba  ./data/S-1.csv 2019-04-05 17:15:54.728  S-1   \n",
       "1  5ca78d4a6c1cea5a4c0e5ebb  ./data/S-2.csv 2019-04-05 17:15:54.767  S-2   \n",
       "2  5ca78d4a6c1cea5a4c0e5ebc  ./data/P-1.csv 2019-04-05 17:15:54.775  P-1   \n",
       "3  5ca78d4a6c1cea5a4c0e5ebd  ./data/E-1.csv 2019-04-05 17:15:54.783  E-1   \n",
       "\n",
       "  signal_set  start_time   stop_time  \n",
       "0        S-1  1222819200  1442016000  \n",
       "1        S-2  1222819200  1282262400  \n",
       "2        P-1  1222819200  1468540800  \n",
       "3        E-1  1222819200  1468951200  "
      ]
     },
     "execution_count": 9,
     "metadata": {},
     "output_type": "execute_result"
    }
   ],
   "source": [
    "explorer.get_datasets()"
   ]
  },
  {
   "cell_type": "markdown",
   "metadata": {},
   "source": [
    "## 4. Run the pipeline on the datasets\n",
    "\n",
    "Once the pipeline and the datasets are registered, we can start the processing loop."
   ]
  },
  {
   "cell_type": "code",
   "execution_count": 10,
   "metadata": {},
   "outputs": [
    {
     "name": "stdout",
     "output_type": "stream",
     "text": [
      "Analyzing dataset S-1\n"
     ]
    },
    {
     "name": "stderr",
     "output_type": "stream",
     "text": [
      "Using TensorFlow backend.\n"
     ]
    },
    {
     "name": "stdout",
     "output_type": "stream",
     "text": [
      "Analyzing dataset S-2\n",
      "Analyzing dataset P-1\n",
      "Analyzing dataset E-1\n"
     ]
    }
   ],
   "source": [
    "for dataset in datasets:\n",
    "    print('Analyzing dataset {}'.format(dataset.name))\n",
    "    explorer.analyze(dataset.name, pipeline.name)"
   ]
  },
  {
   "cell_type": "markdown",
   "metadata": {},
   "source": [
    "## 5. Analyze the results\n",
    "\n",
    "Once the execution has finished, we can explore the Dataruns and the detected Events."
   ]
  },
  {
   "cell_type": "code",
   "execution_count": 11,
   "metadata": {},
   "outputs": [
    {
     "data": {
      "text/html": [
       "<div>\n",
       "<style scoped>\n",
       "    .dataframe tbody tr th:only-of-type {\n",
       "        vertical-align: middle;\n",
       "    }\n",
       "\n",
       "    .dataframe tbody tr th {\n",
       "        vertical-align: top;\n",
       "    }\n",
       "\n",
       "    .dataframe thead th {\n",
       "        text-align: right;\n",
       "    }\n",
       "</style>\n",
       "<table border=\"1\" class=\"dataframe\">\n",
       "  <thead>\n",
       "    <tr style=\"text-align: right;\">\n",
       "      <th></th>\n",
       "      <th>datarun_id</th>\n",
       "      <th>dataset</th>\n",
       "      <th>end_time</th>\n",
       "      <th>events</th>\n",
       "      <th>insert_time</th>\n",
       "      <th>pipeline</th>\n",
       "      <th>start_time</th>\n",
       "      <th>status</th>\n",
       "    </tr>\n",
       "  </thead>\n",
       "  <tbody>\n",
       "    <tr>\n",
       "      <th>0</th>\n",
       "      <td>5ca78d4e6c1cea5a4c0e5ebe</td>\n",
       "      <td>5ca78d4a6c1cea5a4c0e5eba</td>\n",
       "      <td>2019-04-05 17:17:42.250</td>\n",
       "      <td>3</td>\n",
       "      <td>2019-04-05 17:15:58.517</td>\n",
       "      <td>5ca78d476c1cea5a4c0e5eb9</td>\n",
       "      <td>2019-04-05 17:15:58.516</td>\n",
       "      <td>done</td>\n",
       "    </tr>\n",
       "    <tr>\n",
       "      <th>1</th>\n",
       "      <td>5ca78db66c1cea5a4c0e5ec2</td>\n",
       "      <td>5ca78d4a6c1cea5a4c0e5ebb</td>\n",
       "      <td>2019-04-05 17:18:11.119</td>\n",
       "      <td>1</td>\n",
       "      <td>2019-04-05 17:17:42.348</td>\n",
       "      <td>5ca78d476c1cea5a4c0e5eb9</td>\n",
       "      <td>2019-04-05 17:17:42.347</td>\n",
       "      <td>done</td>\n",
       "    </tr>\n",
       "    <tr>\n",
       "      <th>2</th>\n",
       "      <td>5ca78dd36c1cea5a4c0e5ec4</td>\n",
       "      <td>5ca78d4a6c1cea5a4c0e5ebc</td>\n",
       "      <td>2019-04-05 17:20:10.398</td>\n",
       "      <td>1</td>\n",
       "      <td>2019-04-05 17:18:11.218</td>\n",
       "      <td>5ca78d476c1cea5a4c0e5eb9</td>\n",
       "      <td>2019-04-05 17:18:11.217</td>\n",
       "      <td>done</td>\n",
       "    </tr>\n",
       "    <tr>\n",
       "      <th>3</th>\n",
       "      <td>5ca78e4a6c1cea5a4c0e5ec6</td>\n",
       "      <td>5ca78d4a6c1cea5a4c0e5ebd</td>\n",
       "      <td>2019-04-05 17:22:09.128</td>\n",
       "      <td>1</td>\n",
       "      <td>2019-04-05 17:20:10.504</td>\n",
       "      <td>5ca78d476c1cea5a4c0e5eb9</td>\n",
       "      <td>2019-04-05 17:20:10.503</td>\n",
       "      <td>done</td>\n",
       "    </tr>\n",
       "  </tbody>\n",
       "</table>\n",
       "</div>"
      ],
      "text/plain": [
       "                 datarun_id                   dataset                end_time  \\\n",
       "0  5ca78d4e6c1cea5a4c0e5ebe  5ca78d4a6c1cea5a4c0e5eba 2019-04-05 17:17:42.250   \n",
       "1  5ca78db66c1cea5a4c0e5ec2  5ca78d4a6c1cea5a4c0e5ebb 2019-04-05 17:18:11.119   \n",
       "2  5ca78dd36c1cea5a4c0e5ec4  5ca78d4a6c1cea5a4c0e5ebc 2019-04-05 17:20:10.398   \n",
       "3  5ca78e4a6c1cea5a4c0e5ec6  5ca78d4a6c1cea5a4c0e5ebd 2019-04-05 17:22:09.128   \n",
       "\n",
       "   events             insert_time                  pipeline  \\\n",
       "0       3 2019-04-05 17:15:58.517  5ca78d476c1cea5a4c0e5eb9   \n",
       "1       1 2019-04-05 17:17:42.348  5ca78d476c1cea5a4c0e5eb9   \n",
       "2       1 2019-04-05 17:18:11.218  5ca78d476c1cea5a4c0e5eb9   \n",
       "3       1 2019-04-05 17:20:10.504  5ca78d476c1cea5a4c0e5eb9   \n",
       "\n",
       "               start_time status  \n",
       "0 2019-04-05 17:15:58.516   done  \n",
       "1 2019-04-05 17:17:42.347   done  \n",
       "2 2019-04-05 17:18:11.217   done  \n",
       "3 2019-04-05 17:20:10.503   done  "
      ]
     },
     "execution_count": 11,
     "metadata": {},
     "output_type": "execute_result"
    }
   ],
   "source": [
    "explorer.get_dataruns()"
   ]
  },
  {
   "cell_type": "code",
   "execution_count": 12,
   "metadata": {},
   "outputs": [
    {
     "data": {
      "text/html": [
       "<div>\n",
       "<style scoped>\n",
       "    .dataframe tbody tr th:only-of-type {\n",
       "        vertical-align: middle;\n",
       "    }\n",
       "\n",
       "    .dataframe tbody tr th {\n",
       "        vertical-align: top;\n",
       "    }\n",
       "\n",
       "    .dataframe thead th {\n",
       "        text-align: right;\n",
       "    }\n",
       "</style>\n",
       "<table border=\"1\" class=\"dataframe\">\n",
       "  <thead>\n",
       "    <tr style=\"text-align: right;\">\n",
       "      <th></th>\n",
       "      <th>event_id</th>\n",
       "      <th>datarun</th>\n",
       "      <th>insert_time</th>\n",
       "      <th>score</th>\n",
       "      <th>start_time</th>\n",
       "      <th>stop_time</th>\n",
       "      <th>comments</th>\n",
       "    </tr>\n",
       "  </thead>\n",
       "  <tbody>\n",
       "    <tr>\n",
       "      <th>0</th>\n",
       "      <td>5ca78db66c1cea5a4c0e5ebf</td>\n",
       "      <td>5ca78d4e6c1cea5a4c0e5ebe</td>\n",
       "      <td>2019-04-05 17:17:42.198</td>\n",
       "      <td>0.212172</td>\n",
       "      <td>1222840800</td>\n",
       "      <td>1222840800</td>\n",
       "      <td>0</td>\n",
       "    </tr>\n",
       "    <tr>\n",
       "      <th>1</th>\n",
       "      <td>5ca78db66c1cea5a4c0e5ec0</td>\n",
       "      <td>5ca78d4e6c1cea5a4c0e5ebe</td>\n",
       "      <td>2019-04-05 17:17:42.248</td>\n",
       "      <td>0.188293</td>\n",
       "      <td>1222884000</td>\n",
       "      <td>1222884000</td>\n",
       "      <td>0</td>\n",
       "    </tr>\n",
       "    <tr>\n",
       "      <th>2</th>\n",
       "      <td>5ca78db66c1cea5a4c0e5ec1</td>\n",
       "      <td>5ca78d4e6c1cea5a4c0e5ebe</td>\n",
       "      <td>2019-04-05 17:17:42.249</td>\n",
       "      <td>0.223725</td>\n",
       "      <td>1398060000</td>\n",
       "      <td>1399464000</td>\n",
       "      <td>0</td>\n",
       "    </tr>\n",
       "    <tr>\n",
       "      <th>3</th>\n",
       "      <td>5ca78dd36c1cea5a4c0e5ec3</td>\n",
       "      <td>5ca78db66c1cea5a4c0e5ec2</td>\n",
       "      <td>2019-04-05 17:18:11.118</td>\n",
       "      <td>4.906747</td>\n",
       "      <td>1256990400</td>\n",
       "      <td>1257120000</td>\n",
       "      <td>0</td>\n",
       "    </tr>\n",
       "    <tr>\n",
       "      <th>4</th>\n",
       "      <td>5ca78e4a6c1cea5a4c0e5ec5</td>\n",
       "      <td>5ca78dd36c1cea5a4c0e5ec4</td>\n",
       "      <td>2019-04-05 17:20:10.397</td>\n",
       "      <td>0.014155</td>\n",
       "      <td>1351728000</td>\n",
       "      <td>1351749600</td>\n",
       "      <td>0</td>\n",
       "    </tr>\n",
       "    <tr>\n",
       "      <th>5</th>\n",
       "      <td>5ca78ec16c1cea5a4c0e5ec7</td>\n",
       "      <td>5ca78e4a6c1cea5a4c0e5ec6</td>\n",
       "      <td>2019-04-05 17:22:09.127</td>\n",
       "      <td>0.032443</td>\n",
       "      <td>1406095200</td>\n",
       "      <td>1406138400</td>\n",
       "      <td>0</td>\n",
       "    </tr>\n",
       "  </tbody>\n",
       "</table>\n",
       "</div>"
      ],
      "text/plain": [
       "                   event_id                   datarun             insert_time  \\\n",
       "0  5ca78db66c1cea5a4c0e5ebf  5ca78d4e6c1cea5a4c0e5ebe 2019-04-05 17:17:42.198   \n",
       "1  5ca78db66c1cea5a4c0e5ec0  5ca78d4e6c1cea5a4c0e5ebe 2019-04-05 17:17:42.248   \n",
       "2  5ca78db66c1cea5a4c0e5ec1  5ca78d4e6c1cea5a4c0e5ebe 2019-04-05 17:17:42.249   \n",
       "3  5ca78dd36c1cea5a4c0e5ec3  5ca78db66c1cea5a4c0e5ec2 2019-04-05 17:18:11.118   \n",
       "4  5ca78e4a6c1cea5a4c0e5ec5  5ca78dd36c1cea5a4c0e5ec4 2019-04-05 17:20:10.397   \n",
       "5  5ca78ec16c1cea5a4c0e5ec7  5ca78e4a6c1cea5a4c0e5ec6 2019-04-05 17:22:09.127   \n",
       "\n",
       "      score  start_time   stop_time  comments  \n",
       "0  0.212172  1222840800  1222840800         0  \n",
       "1  0.188293  1222884000  1222884000         0  \n",
       "2  0.223725  1398060000  1399464000         0  \n",
       "3  4.906747  1256990400  1257120000         0  \n",
       "4  0.014155  1351728000  1351749600         0  \n",
       "5  0.032443  1406095200  1406138400         0  "
      ]
     },
     "execution_count": 12,
     "metadata": {},
     "output_type": "execute_result"
    }
   ],
   "source": [
    "explorer.get_events()"
   ]
  }
 ],
 "metadata": {
  "kernelspec": {
   "display_name": "Python 3",
   "language": "python",
   "name": "python3"
  },
  "language_info": {
   "codemirror_mode": {
    "name": "ipython",
    "version": 3
   },
   "file_extension": ".py",
   "mimetype": "text/x-python",
   "name": "python",
   "nbconvert_exporter": "python",
   "pygments_lexer": "ipython3",
   "version": "3.6.7"
  }
 },
 "nbformat": 4,
 "nbformat_minor": 2
}
